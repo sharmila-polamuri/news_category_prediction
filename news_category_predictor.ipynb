{
 "cells": [
  {
   "cell_type": "code",
   "execution_count": null,
   "metadata": {
    "colab": {},
    "colab_type": "code",
    "id": "NiAvjo1e_uVy"
   },
   "outputs": [],
   "source": []
  },
  {
   "cell_type": "code",
   "execution_count": 82,
   "metadata": {
    "colab": {
     "base_uri": "https://localhost:8080/",
     "height": 34
    },
    "colab_type": "code",
    "executionInfo": {
     "elapsed": 1345,
     "status": "ok",
     "timestamp": 1594055675344,
     "user": {
      "displayName": "sharmila polamuri",
      "photoUrl": "https://lh3.googleusercontent.com/a-/AOh14GitHqSahKsh5l1AAtYV33Yfwpc77erHqm57l5OWOOU=s64",
      "userId": "15785241321524451082"
     },
     "user_tz": -330
    },
    "id": "tsdP3_J_h36K",
    "outputId": "06a649ab-9a67-41d5-bb18-a98b15d26111"
   },
   "outputs": [
    {
     "name": "stdout",
     "output_type": "stream",
     "text": [
      "Drive already mounted at /content/drive; to attempt to forcibly remount, call drive.mount(\"/content/drive\", force_remount=True).\n"
     ]
    }
   ],
   "source": [
    "from google.colab import drive\n",
    "drive.mount(\"/content/drive\")"
   ]
  },
  {
   "cell_type": "code",
   "execution_count": 1,
   "metadata": {
    "colab": {},
    "colab_type": "code",
    "executionInfo": {
     "elapsed": 1234,
     "status": "ok",
     "timestamp": 1594055679183,
     "user": {
      "displayName": "sharmila polamuri",
      "photoUrl": "https://lh3.googleusercontent.com/a-/AOh14GitHqSahKsh5l1AAtYV33Yfwpc77erHqm57l5OWOOU=s64",
      "userId": "15785241321524451082"
     },
     "user_tz": -330
    },
    "id": "xo7KGoBbiq2y"
   },
   "outputs": [],
   "source": [
    "import pandas as pd"
   ]
  },
  {
   "cell_type": "code",
   "execution_count": 2,
   "metadata": {
    "colab": {
     "base_uri": "https://localhost:8080/",
     "height": 204
    },
    "colab_type": "code",
    "executionInfo": {
     "elapsed": 1196,
     "status": "ok",
     "timestamp": 1594055682472,
     "user": {
      "displayName": "sharmila polamuri",
      "photoUrl": "https://lh3.googleusercontent.com/a-/AOh14GitHqSahKsh5l1AAtYV33Yfwpc77erHqm57l5OWOOU=s64",
      "userId": "15785241321524451082"
     },
     "user_tz": -330
    },
    "id": "8L2g2dWWiafY",
    "outputId": "703cdf85-8070-4943-d73c-31c09eeb8cab"
   },
   "outputs": [
    {
     "data": {
      "text/html": [
       "<div>\n",
       "<style scoped>\n",
       "    .dataframe tbody tr th:only-of-type {\n",
       "        vertical-align: middle;\n",
       "    }\n",
       "\n",
       "    .dataframe tbody tr th {\n",
       "        vertical-align: top;\n",
       "    }\n",
       "\n",
       "    .dataframe thead th {\n",
       "        text-align: right;\n",
       "    }\n",
       "</style>\n",
       "<table border=\"1\" class=\"dataframe\">\n",
       "  <thead>\n",
       "    <tr style=\"text-align: right;\">\n",
       "      <th></th>\n",
       "      <th>STORY</th>\n",
       "      <th>SECTION</th>\n",
       "    </tr>\n",
       "  </thead>\n",
       "  <tbody>\n",
       "    <tr>\n",
       "      <td>0</td>\n",
       "      <td>But the most painful was the huge reversal in ...</td>\n",
       "      <td>3</td>\n",
       "    </tr>\n",
       "    <tr>\n",
       "      <td>1</td>\n",
       "      <td>How formidable is the opposition alliance amon...</td>\n",
       "      <td>0</td>\n",
       "    </tr>\n",
       "    <tr>\n",
       "      <td>2</td>\n",
       "      <td>Most Asian currencies were trading lower today...</td>\n",
       "      <td>3</td>\n",
       "    </tr>\n",
       "    <tr>\n",
       "      <td>3</td>\n",
       "      <td>If you want to answer any question, click on ‘...</td>\n",
       "      <td>1</td>\n",
       "    </tr>\n",
       "    <tr>\n",
       "      <td>4</td>\n",
       "      <td>In global markets, gold prices edged up today ...</td>\n",
       "      <td>3</td>\n",
       "    </tr>\n",
       "  </tbody>\n",
       "</table>\n",
       "</div>"
      ],
      "text/plain": [
       "                                               STORY  SECTION\n",
       "0  But the most painful was the huge reversal in ...        3\n",
       "1  How formidable is the opposition alliance amon...        0\n",
       "2  Most Asian currencies were trading lower today...        3\n",
       "3  If you want to answer any question, click on ‘...        1\n",
       "4  In global markets, gold prices edged up today ...        3"
      ]
     },
     "execution_count": 2,
     "metadata": {},
     "output_type": "execute_result"
    }
   ],
   "source": [
    "df = pd.read_excel('Participants_Data_News_category/Data_Train.xlsx')\n",
    "df_test = pd.read_excel(\"Participants_Data_News_category/Data_Test.xlsx\")\n",
    "df.head()"
   ]
  },
  {
   "cell_type": "code",
   "execution_count": 3,
   "metadata": {
    "colab": {},
    "colab_type": "code",
    "executionInfo": {
     "elapsed": 1933,
     "status": "ok",
     "timestamp": 1594055686225,
     "user": {
      "displayName": "sharmila polamuri",
      "photoUrl": "https://lh3.googleusercontent.com/a-/AOh14GitHqSahKsh5l1AAtYV33Yfwpc77erHqm57l5OWOOU=s64",
      "userId": "15785241321524451082"
     },
     "user_tz": -330
    },
    "id": "bg0VaiSniy0m"
   },
   "outputs": [],
   "source": [
    "sentences = df[\"STORY\"]\n",
    "labels = df[\"SECTION\"]"
   ]
  },
  {
   "cell_type": "code",
   "execution_count": 4,
   "metadata": {},
   "outputs": [],
   "source": [
    "# label one hot encoding\n",
    "from sklearn.preprocessing import OneHotEncoder\n",
    "import numpy as np\n",
    "onehot_encoder = OneHotEncoder(sparse=False)\n",
    "onehot_encoded = onehot_encoder.fit_transform(np.array(labels).reshape(-1,1))"
   ]
  },
  {
   "cell_type": "code",
   "execution_count": 5,
   "metadata": {},
   "outputs": [],
   "source": [
    "full_dataset = pd.concat([df[\"STORY\"], df_test[\"STORY\"]], axis=0)"
   ]
  },
  {
   "cell_type": "code",
   "execution_count": 6,
   "metadata": {},
   "outputs": [],
   "source": [
    "train_size = df.shape[0]\n",
    "test_size = df_test.shape[0]"
   ]
  },
  {
   "cell_type": "code",
   "execution_count": 7,
   "metadata": {},
   "outputs": [
    {
     "data": {
      "text/plain": [
       "(7628, 2748)"
      ]
     },
     "execution_count": 7,
     "metadata": {},
     "output_type": "execute_result"
    }
   ],
   "source": [
    "train_size,test_size"
   ]
  },
  {
   "cell_type": "code",
   "execution_count": 8,
   "metadata": {
    "colab": {
     "base_uri": "https://localhost:8080/",
     "height": 68
    },
    "colab_type": "code",
    "executionInfo": {
     "elapsed": 1576,
     "status": "ok",
     "timestamp": 1594055688777,
     "user": {
      "displayName": "sharmila polamuri",
      "photoUrl": "https://lh3.googleusercontent.com/a-/AOh14GitHqSahKsh5l1AAtYV33Yfwpc77erHqm57l5OWOOU=s64",
      "userId": "15785241321524451082"
     },
     "user_tz": -330
    },
    "id": "OSk8Bc5Xi7Nw",
    "outputId": "4e3f261f-46e7-4ecd-8c30-c189718641b0"
   },
   "outputs": [
    {
     "data": {
      "text/plain": [
       "0"
      ]
     },
     "execution_count": 8,
     "metadata": {},
     "output_type": "execute_result"
    }
   ],
   "source": [
    "full_dataset.isnull().sum()"
   ]
  },
  {
   "cell_type": "code",
   "execution_count": 9,
   "metadata": {},
   "outputs": [
    {
     "data": {
      "text/plain": [
       "0    But the most painful was the huge reversal in ...\n",
       "1    How formidable is the opposition alliance amon...\n",
       "2    Most Asian currencies were trading lower today...\n",
       "3    If you want to answer any question, click on ‘...\n",
       "4    In global markets, gold prices edged up today ...\n",
       "Name: STORY, dtype: object"
      ]
     },
     "execution_count": 9,
     "metadata": {},
     "output_type": "execute_result"
    }
   ],
   "source": [
    "full_dataset.head()"
   ]
  },
  {
   "cell_type": "code",
   "execution_count": 22,
   "metadata": {},
   "outputs": [
    {
     "name": "stdout",
     "output_type": "stream",
     "text": [
      "Requirement already satisfied: en_core_web_sm==2.1.0 from https://github.com/explosion/spacy-models/releases/download/en_core_web_sm-2.1.0/en_core_web_sm-2.1.0.tar.gz#egg=en_core_web_sm==2.1.0 in /anaconda3/lib/python3.7/site-packages (2.1.0)\n",
      "\u001b[38;5;2m✔ Download and installation successful\u001b[0m\n",
      "You can now load the model via spacy.load('en_core_web_sm')\n"
     ]
    }
   ],
   "source": [
    "import spacy\n",
    "!python -m spacy download en_core_web_sm"
   ]
  },
  {
   "cell_type": "code",
   "execution_count": 17,
   "metadata": {},
   "outputs": [
    {
     "name": "stderr",
     "output_type": "stream",
     "text": [
      "[nltk_data] Downloading package stopwords to /Users/apple/nltk_data...\n",
      "[nltk_data]   Package stopwords is already up-to-date!\n"
     ]
    },
    {
     "data": {
      "text/plain": [
       "True"
      ]
     },
     "execution_count": 17,
     "metadata": {},
     "output_type": "execute_result"
    }
   ],
   "source": [
    "import nltk\n",
    "nltk.download('stopwords')"
   ]
  },
  {
   "cell_type": "code",
   "execution_count": 23,
   "metadata": {},
   "outputs": [
    {
     "ename": "OSError",
     "evalue": "[E050] Can't find model 'en_core_web_sm'. It doesn't seem to be a shortcut link, a Python package or a valid path to a data directory.",
     "output_type": "error",
     "traceback": [
      "\u001b[0;31m---------------------------------------------------------------------------\u001b[0m",
      "\u001b[0;31mOSError\u001b[0m                                   Traceback (most recent call last)",
      "\u001b[0;32m<ipython-input-23-a7588ca58fa5>\u001b[0m in \u001b[0;36m<module>\u001b[0;34m\u001b[0m\n\u001b[0;32m----> 1\u001b[0;31m \u001b[0mnlp\u001b[0m \u001b[0;34m=\u001b[0m \u001b[0mspacy\u001b[0m\u001b[0;34m.\u001b[0m\u001b[0mload\u001b[0m\u001b[0;34m(\u001b[0m\u001b[0;34m\"en_core_web_sm\"\u001b[0m\u001b[0;34m)\u001b[0m\u001b[0;34m\u001b[0m\u001b[0;34m\u001b[0m\u001b[0m\n\u001b[0m\u001b[1;32m      2\u001b[0m \u001b[0mspacy_stopwords\u001b[0m \u001b[0;34m=\u001b[0m \u001b[0mnlp\u001b[0m\u001b[0;34m.\u001b[0m\u001b[0mDefaults\u001b[0m\u001b[0;34m.\u001b[0m\u001b[0mstop_words\u001b[0m\u001b[0;34m\u001b[0m\u001b[0;34m\u001b[0m\u001b[0m\n\u001b[1;32m      3\u001b[0m \u001b[0;31m# stop words from spacy and nltk\u001b[0m\u001b[0;34m\u001b[0m\u001b[0;34m\u001b[0m\u001b[0;34m\u001b[0m\u001b[0m\n\u001b[1;32m      4\u001b[0m \u001b[0;32mfrom\u001b[0m \u001b[0mnltk\u001b[0m\u001b[0;34m.\u001b[0m\u001b[0mcorpus\u001b[0m \u001b[0;32mimport\u001b[0m \u001b[0mstopwords\u001b[0m\u001b[0;34m\u001b[0m\u001b[0;34m\u001b[0m\u001b[0m\n\u001b[1;32m      5\u001b[0m \u001b[0mnltk_stopwords\u001b[0m \u001b[0;34m=\u001b[0m \u001b[0mset\u001b[0m\u001b[0;34m(\u001b[0m\u001b[0mstopwords\u001b[0m\u001b[0;34m.\u001b[0m\u001b[0mwords\u001b[0m\u001b[0;34m(\u001b[0m\u001b[0;34m\"english\"\u001b[0m\u001b[0;34m)\u001b[0m\u001b[0;34m)\u001b[0m\u001b[0;34m\u001b[0m\u001b[0;34m\u001b[0m\u001b[0m\n",
      "\u001b[0;32m/anaconda3/lib/python3.7/site-packages/spacy/__init__.py\u001b[0m in \u001b[0;36mload\u001b[0;34m(name, **overrides)\u001b[0m\n\u001b[1;32m     20\u001b[0m     \u001b[0;32mif\u001b[0m \u001b[0mdepr_path\u001b[0m \u001b[0;32mnot\u001b[0m \u001b[0;32min\u001b[0m \u001b[0;34m(\u001b[0m\u001b[0;32mTrue\u001b[0m\u001b[0;34m,\u001b[0m \u001b[0;32mFalse\u001b[0m\u001b[0;34m,\u001b[0m \u001b[0;32mNone\u001b[0m\u001b[0;34m)\u001b[0m\u001b[0;34m:\u001b[0m\u001b[0;34m\u001b[0m\u001b[0;34m\u001b[0m\u001b[0m\n\u001b[1;32m     21\u001b[0m         \u001b[0mdeprecation_warning\u001b[0m\u001b[0;34m(\u001b[0m\u001b[0mWarnings\u001b[0m\u001b[0;34m.\u001b[0m\u001b[0mW001\u001b[0m\u001b[0;34m.\u001b[0m\u001b[0mformat\u001b[0m\u001b[0;34m(\u001b[0m\u001b[0mpath\u001b[0m\u001b[0;34m=\u001b[0m\u001b[0mdepr_path\u001b[0m\u001b[0;34m)\u001b[0m\u001b[0;34m)\u001b[0m\u001b[0;34m\u001b[0m\u001b[0;34m\u001b[0m\u001b[0m\n\u001b[0;32m---> 22\u001b[0;31m     \u001b[0;32mreturn\u001b[0m \u001b[0mutil\u001b[0m\u001b[0;34m.\u001b[0m\u001b[0mload_model\u001b[0m\u001b[0;34m(\u001b[0m\u001b[0mname\u001b[0m\u001b[0;34m,\u001b[0m \u001b[0;34m**\u001b[0m\u001b[0moverrides\u001b[0m\u001b[0;34m)\u001b[0m\u001b[0;34m\u001b[0m\u001b[0;34m\u001b[0m\u001b[0m\n\u001b[0m\u001b[1;32m     23\u001b[0m \u001b[0;34m\u001b[0m\u001b[0m\n\u001b[1;32m     24\u001b[0m \u001b[0;34m\u001b[0m\u001b[0m\n",
      "\u001b[0;32m/anaconda3/lib/python3.7/site-packages/spacy/util.py\u001b[0m in \u001b[0;36mload_model\u001b[0;34m(name, **overrides)\u001b[0m\n\u001b[1;32m    134\u001b[0m     \u001b[0;32melif\u001b[0m \u001b[0mhasattr\u001b[0m\u001b[0;34m(\u001b[0m\u001b[0mname\u001b[0m\u001b[0;34m,\u001b[0m \u001b[0;34m\"exists\"\u001b[0m\u001b[0;34m)\u001b[0m\u001b[0;34m:\u001b[0m  \u001b[0;31m# Path or Path-like to model data\u001b[0m\u001b[0;34m\u001b[0m\u001b[0;34m\u001b[0m\u001b[0m\n\u001b[1;32m    135\u001b[0m         \u001b[0;32mreturn\u001b[0m \u001b[0mload_model_from_path\u001b[0m\u001b[0;34m(\u001b[0m\u001b[0mname\u001b[0m\u001b[0;34m,\u001b[0m \u001b[0;34m**\u001b[0m\u001b[0moverrides\u001b[0m\u001b[0;34m)\u001b[0m\u001b[0;34m\u001b[0m\u001b[0;34m\u001b[0m\u001b[0m\n\u001b[0;32m--> 136\u001b[0;31m     \u001b[0;32mraise\u001b[0m \u001b[0mIOError\u001b[0m\u001b[0;34m(\u001b[0m\u001b[0mErrors\u001b[0m\u001b[0;34m.\u001b[0m\u001b[0mE050\u001b[0m\u001b[0;34m.\u001b[0m\u001b[0mformat\u001b[0m\u001b[0;34m(\u001b[0m\u001b[0mname\u001b[0m\u001b[0;34m=\u001b[0m\u001b[0mname\u001b[0m\u001b[0;34m)\u001b[0m\u001b[0;34m)\u001b[0m\u001b[0;34m\u001b[0m\u001b[0;34m\u001b[0m\u001b[0m\n\u001b[0m\u001b[1;32m    137\u001b[0m \u001b[0;34m\u001b[0m\u001b[0m\n\u001b[1;32m    138\u001b[0m \u001b[0;34m\u001b[0m\u001b[0m\n",
      "\u001b[0;31mOSError\u001b[0m: [E050] Can't find model 'en_core_web_sm'. It doesn't seem to be a shortcut link, a Python package or a valid path to a data directory."
     ]
    }
   ],
   "source": [
    "nlp = spacy.load(\"en_core_web_sm\")\n",
    "spacy_stopwords = nlp.Defaults.stop_words\n",
    "# stop words from spacy and nltk\n",
    "from nltk.corpus import stopwords\n",
    "nltk_stopwords = set(stopwords.words(\"english\"))\n",
    "\n",
    "all_stopwords = []\n",
    "all_stopwords.extend(list(spacy_stopwords))\n",
    "all_stopwords.extend(list(nltk_stopwords))\n",
    "all_stopwords = list(set(all_stopwords))"
   ]
  },
  {
   "cell_type": "code",
   "execution_count": 11,
   "metadata": {},
   "outputs": [],
   "source": [
    "# replace extra spaces\n",
    "import re\n",
    "pattern = r'[\\t| ]+'\n",
    "def remove_extra_spaces(text_data):\n",
    "    text_data = re.sub(pattern,' ',text_data)\n",
    "    return text_data\n",
    "\n",
    "# lemmatization\n",
    "from nltk.stem import WordNetLemmatizer\n",
    "lemmatizer = WordNetLemmatizer()\n",
    "def word_lemma(text_data):\n",
    "    text_data = \" \".join([lemmatizer.lemmatize(word) for word in text_data.split()])\n",
    "    return text_data\n",
    "\n",
    "# removing punctuations\n",
    "import string\n",
    "PUNCT_TO_REMOVE = string.punctuation\n",
    "def remove_punc(text_data):\n",
    "    text_data = text_data.translate(str.maketrans('', '', PUNCT_TO_REMOVE))\n",
    "    return text_data\n",
    "\n",
    "# stemming \n",
    "from nltk.stem.porter import PorterStemmer\n",
    "stemmer = PorterStemmer()\n",
    "def word_stemming(text_data):\n",
    "    text_data = ' '.join([stemmer.stem(word) for word in text_data.split()])\n",
    "    return text_data\n",
    "\n",
    "# removing stopwords\n",
    "def remove_stopwords(text_data):\n",
    "    text_data = text_data.lower()\n",
    "    text_data = ' '.join([word for word in text_data.split() if word.lower() not in all_stopwords])\n",
    "    return text_data\n"
   ]
  },
  {
   "cell_type": "code",
   "execution_count": 12,
   "metadata": {},
   "outputs": [
    {
     "ename": "NameError",
     "evalue": "name 'all_stopwords' is not defined",
     "output_type": "error",
     "traceback": [
      "\u001b[0;31m---------------------------------------------------------------------------\u001b[0m",
      "\u001b[0;31mNameError\u001b[0m                                 Traceback (most recent call last)",
      "\u001b[0;32m<ipython-input-12-ec0efdd8748c>\u001b[0m in \u001b[0;36m<module>\u001b[0;34m\u001b[0m\n\u001b[1;32m      1\u001b[0m \u001b[0;31m# data preprocessing steps\u001b[0m\u001b[0;34m\u001b[0m\u001b[0;34m\u001b[0m\u001b[0;34m\u001b[0m\u001b[0m\n\u001b[0;32m----> 2\u001b[0;31m \u001b[0mfull_dataset\u001b[0m \u001b[0;34m=\u001b[0m \u001b[0mfull_dataset\u001b[0m\u001b[0;34m.\u001b[0m\u001b[0mapply\u001b[0m\u001b[0;34m(\u001b[0m\u001b[0mremove_stopwords\u001b[0m\u001b[0;34m)\u001b[0m\u001b[0;34m\u001b[0m\u001b[0;34m\u001b[0m\u001b[0m\n\u001b[0m\u001b[1;32m      3\u001b[0m \u001b[0mfull_dataset\u001b[0m \u001b[0;34m=\u001b[0m \u001b[0mfull_dataset\u001b[0m\u001b[0;34m.\u001b[0m\u001b[0mapply\u001b[0m\u001b[0;34m(\u001b[0m\u001b[0mremove_punc\u001b[0m\u001b[0;34m)\u001b[0m\u001b[0;34m\u001b[0m\u001b[0;34m\u001b[0m\u001b[0m\n\u001b[1;32m      4\u001b[0m \u001b[0;31m# train_text = train_text.apply(word_stemming)\u001b[0m\u001b[0;34m\u001b[0m\u001b[0;34m\u001b[0m\u001b[0;34m\u001b[0m\u001b[0m\n\u001b[1;32m      5\u001b[0m \u001b[0mfull_dataset\u001b[0m \u001b[0;34m=\u001b[0m \u001b[0mfull_dataset\u001b[0m\u001b[0;34m.\u001b[0m\u001b[0mapply\u001b[0m\u001b[0;34m(\u001b[0m\u001b[0mword_lemma\u001b[0m\u001b[0;34m)\u001b[0m\u001b[0;34m\u001b[0m\u001b[0;34m\u001b[0m\u001b[0m\n",
      "\u001b[0;32m/anaconda3/lib/python3.7/site-packages/pandas/core/series.py\u001b[0m in \u001b[0;36mapply\u001b[0;34m(self, func, convert_dtype, args, **kwds)\u001b[0m\n\u001b[1;32m   4040\u001b[0m             \u001b[0;32melse\u001b[0m\u001b[0;34m:\u001b[0m\u001b[0;34m\u001b[0m\u001b[0;34m\u001b[0m\u001b[0m\n\u001b[1;32m   4041\u001b[0m                 \u001b[0mvalues\u001b[0m \u001b[0;34m=\u001b[0m \u001b[0mself\u001b[0m\u001b[0;34m.\u001b[0m\u001b[0mastype\u001b[0m\u001b[0;34m(\u001b[0m\u001b[0mobject\u001b[0m\u001b[0;34m)\u001b[0m\u001b[0;34m.\u001b[0m\u001b[0mvalues\u001b[0m\u001b[0;34m\u001b[0m\u001b[0;34m\u001b[0m\u001b[0m\n\u001b[0;32m-> 4042\u001b[0;31m                 \u001b[0mmapped\u001b[0m \u001b[0;34m=\u001b[0m \u001b[0mlib\u001b[0m\u001b[0;34m.\u001b[0m\u001b[0mmap_infer\u001b[0m\u001b[0;34m(\u001b[0m\u001b[0mvalues\u001b[0m\u001b[0;34m,\u001b[0m \u001b[0mf\u001b[0m\u001b[0;34m,\u001b[0m \u001b[0mconvert\u001b[0m\u001b[0;34m=\u001b[0m\u001b[0mconvert_dtype\u001b[0m\u001b[0;34m)\u001b[0m\u001b[0;34m\u001b[0m\u001b[0;34m\u001b[0m\u001b[0m\n\u001b[0m\u001b[1;32m   4043\u001b[0m \u001b[0;34m\u001b[0m\u001b[0m\n\u001b[1;32m   4044\u001b[0m         \u001b[0;32mif\u001b[0m \u001b[0mlen\u001b[0m\u001b[0;34m(\u001b[0m\u001b[0mmapped\u001b[0m\u001b[0;34m)\u001b[0m \u001b[0;32mand\u001b[0m \u001b[0misinstance\u001b[0m\u001b[0;34m(\u001b[0m\u001b[0mmapped\u001b[0m\u001b[0;34m[\u001b[0m\u001b[0;36m0\u001b[0m\u001b[0;34m]\u001b[0m\u001b[0;34m,\u001b[0m \u001b[0mSeries\u001b[0m\u001b[0;34m)\u001b[0m\u001b[0;34m:\u001b[0m\u001b[0;34m\u001b[0m\u001b[0;34m\u001b[0m\u001b[0m\n",
      "\u001b[0;32mpandas/_libs/lib.pyx\u001b[0m in \u001b[0;36mpandas._libs.lib.map_infer\u001b[0;34m()\u001b[0m\n",
      "\u001b[0;32m<ipython-input-11-fe44e6f0bbce>\u001b[0m in \u001b[0;36mremove_stopwords\u001b[0;34m(text_data)\u001b[0m\n\u001b[1;32m     30\u001b[0m \u001b[0;32mdef\u001b[0m \u001b[0mremove_stopwords\u001b[0m\u001b[0;34m(\u001b[0m\u001b[0mtext_data\u001b[0m\u001b[0;34m)\u001b[0m\u001b[0;34m:\u001b[0m\u001b[0;34m\u001b[0m\u001b[0;34m\u001b[0m\u001b[0m\n\u001b[1;32m     31\u001b[0m     \u001b[0mtext_data\u001b[0m \u001b[0;34m=\u001b[0m \u001b[0mtext_data\u001b[0m\u001b[0;34m.\u001b[0m\u001b[0mlower\u001b[0m\u001b[0;34m(\u001b[0m\u001b[0;34m)\u001b[0m\u001b[0;34m\u001b[0m\u001b[0;34m\u001b[0m\u001b[0m\n\u001b[0;32m---> 32\u001b[0;31m     \u001b[0mtext_data\u001b[0m \u001b[0;34m=\u001b[0m \u001b[0;34m' '\u001b[0m\u001b[0;34m.\u001b[0m\u001b[0mjoin\u001b[0m\u001b[0;34m(\u001b[0m\u001b[0;34m[\u001b[0m\u001b[0mword\u001b[0m \u001b[0;32mfor\u001b[0m \u001b[0mword\u001b[0m \u001b[0;32min\u001b[0m \u001b[0mtext_data\u001b[0m\u001b[0;34m.\u001b[0m\u001b[0msplit\u001b[0m\u001b[0;34m(\u001b[0m\u001b[0;34m)\u001b[0m \u001b[0;32mif\u001b[0m \u001b[0mword\u001b[0m\u001b[0;34m.\u001b[0m\u001b[0mlower\u001b[0m\u001b[0;34m(\u001b[0m\u001b[0;34m)\u001b[0m \u001b[0;32mnot\u001b[0m \u001b[0;32min\u001b[0m \u001b[0mall_stopwords\u001b[0m\u001b[0;34m]\u001b[0m\u001b[0;34m)\u001b[0m\u001b[0;34m\u001b[0m\u001b[0;34m\u001b[0m\u001b[0m\n\u001b[0m\u001b[1;32m     33\u001b[0m     \u001b[0;32mreturn\u001b[0m \u001b[0mtext_data\u001b[0m\u001b[0;34m\u001b[0m\u001b[0;34m\u001b[0m\u001b[0m\n",
      "\u001b[0;32m<ipython-input-11-fe44e6f0bbce>\u001b[0m in \u001b[0;36m<listcomp>\u001b[0;34m(.0)\u001b[0m\n\u001b[1;32m     30\u001b[0m \u001b[0;32mdef\u001b[0m \u001b[0mremove_stopwords\u001b[0m\u001b[0;34m(\u001b[0m\u001b[0mtext_data\u001b[0m\u001b[0;34m)\u001b[0m\u001b[0;34m:\u001b[0m\u001b[0;34m\u001b[0m\u001b[0;34m\u001b[0m\u001b[0m\n\u001b[1;32m     31\u001b[0m     \u001b[0mtext_data\u001b[0m \u001b[0;34m=\u001b[0m \u001b[0mtext_data\u001b[0m\u001b[0;34m.\u001b[0m\u001b[0mlower\u001b[0m\u001b[0;34m(\u001b[0m\u001b[0;34m)\u001b[0m\u001b[0;34m\u001b[0m\u001b[0;34m\u001b[0m\u001b[0m\n\u001b[0;32m---> 32\u001b[0;31m     \u001b[0mtext_data\u001b[0m \u001b[0;34m=\u001b[0m \u001b[0;34m' '\u001b[0m\u001b[0;34m.\u001b[0m\u001b[0mjoin\u001b[0m\u001b[0;34m(\u001b[0m\u001b[0;34m[\u001b[0m\u001b[0mword\u001b[0m \u001b[0;32mfor\u001b[0m \u001b[0mword\u001b[0m \u001b[0;32min\u001b[0m \u001b[0mtext_data\u001b[0m\u001b[0;34m.\u001b[0m\u001b[0msplit\u001b[0m\u001b[0;34m(\u001b[0m\u001b[0;34m)\u001b[0m \u001b[0;32mif\u001b[0m \u001b[0mword\u001b[0m\u001b[0;34m.\u001b[0m\u001b[0mlower\u001b[0m\u001b[0;34m(\u001b[0m\u001b[0;34m)\u001b[0m \u001b[0;32mnot\u001b[0m \u001b[0;32min\u001b[0m \u001b[0mall_stopwords\u001b[0m\u001b[0;34m]\u001b[0m\u001b[0;34m)\u001b[0m\u001b[0;34m\u001b[0m\u001b[0;34m\u001b[0m\u001b[0m\n\u001b[0m\u001b[1;32m     33\u001b[0m     \u001b[0;32mreturn\u001b[0m \u001b[0mtext_data\u001b[0m\u001b[0;34m\u001b[0m\u001b[0;34m\u001b[0m\u001b[0m\n",
      "\u001b[0;31mNameError\u001b[0m: name 'all_stopwords' is not defined"
     ]
    }
   ],
   "source": [
    "# data preprocessing steps\n",
    "full_dataset = full_dataset.apply(remove_stopwords)\n",
    "full_dataset = full_dataset.apply(remove_punc)\n",
    "# train_text = train_text.apply(word_stemming)\n",
    "full_dataset = full_dataset.apply(word_lemma)\n",
    "full_dataset = full_dataset.apply(remove_extra_spaces)"
   ]
  },
  {
   "cell_type": "code",
   "execution_count": 10,
   "metadata": {
    "colab": {},
    "colab_type": "code",
    "executionInfo": {
     "elapsed": 2718,
     "status": "ok",
     "timestamp": 1594055692299,
     "user": {
      "displayName": "sharmila polamuri",
      "photoUrl": "https://lh3.googleusercontent.com/a-/AOh14GitHqSahKsh5l1AAtYV33Yfwpc77erHqm57l5OWOOU=s64",
      "userId": "15785241321524451082"
     },
     "user_tz": -330
    },
    "id": "7EBlnZnXjDMV"
   },
   "outputs": [],
   "source": [
    "#importing required libraries\n",
    "import tensorflow as tf\n",
    "from tensorflow.keras.preprocessing.text import Tokenizer\n",
    "from tensorflow.keras.preprocessing.sequence import pad_sequences\n",
    "tokenizer = Tokenizer(oov_token=\"<OOV>\")\n",
    "tokenizer.fit_on_texts(full_dataset)\n",
    "word_index = tokenizer.word_index"
   ]
  },
  {
   "cell_type": "code",
   "execution_count": 13,
   "metadata": {},
   "outputs": [
    {
     "data": {
      "text/plain": [
       "44069"
      ]
     },
     "execution_count": 13,
     "metadata": {},
     "output_type": "execute_result"
    }
   ],
   "source": [
    "len(word_index)"
   ]
  },
  {
   "cell_type": "code",
   "execution_count": 10,
   "metadata": {
    "colab": {
     "base_uri": "https://localhost:8080/",
     "height": 34
    },
    "colab_type": "code",
    "executionInfo": {
     "elapsed": 1504,
     "status": "ok",
     "timestamp": 1594055694803,
     "user": {
      "displayName": "sharmila polamuri",
      "photoUrl": "https://lh3.googleusercontent.com/a-/AOh14GitHqSahKsh5l1AAtYV33Yfwpc77erHqm57l5OWOOU=s64",
      "userId": "15785241321524451082"
     },
     "user_tz": -330
    },
    "id": "N6juKadMmTHx",
    "outputId": "cb0f3be9-3ceb-40fe-b783-527554a2065f"
   },
   "outputs": [
    {
     "data": {
      "text/plain": [
       "array([3, 0, 1, 2])"
      ]
     },
     "execution_count": 10,
     "metadata": {},
     "output_type": "execute_result"
    }
   ],
   "source": [
    "labels.unique()"
   ]
  },
  {
   "cell_type": "code",
   "execution_count": 11,
   "metadata": {
    "colab": {},
    "colab_type": "code",
    "executionInfo": {
     "elapsed": 1512,
     "status": "ok",
     "timestamp": 1594055697361,
     "user": {
      "displayName": "sharmila polamuri",
      "photoUrl": "https://lh3.googleusercontent.com/a-/AOh14GitHqSahKsh5l1AAtYV33Yfwpc77erHqm57l5OWOOU=s64",
      "userId": "15785241321524451082"
     },
     "user_tz": -330
    },
    "id": "LQI2TwpGDvWy"
   },
   "outputs": [],
   "source": [
    "import tensorflow as tf"
   ]
  },
  {
   "cell_type": "code",
   "execution_count": 12,
   "metadata": {
    "colab": {},
    "colab_type": "code",
    "executionInfo": {
     "elapsed": 1183,
     "status": "ok",
     "timestamp": 1594055702681,
     "user": {
      "displayName": "sharmila polamuri",
      "photoUrl": "https://lh3.googleusercontent.com/a-/AOh14GitHqSahKsh5l1AAtYV33Yfwpc77erHqm57l5OWOOU=s64",
      "userId": "15785241321524451082"
     },
     "user_tz": -330
    },
    "id": "ptX94FY5Dlun"
   },
   "outputs": [],
   "source": [
    "labels1 = tf.one_hot(labels,4,1,0)"
   ]
  },
  {
   "cell_type": "code",
   "execution_count": 14,
   "metadata": {
    "colab": {
     "base_uri": "https://localhost:8080/",
     "height": 153
    },
    "colab_type": "code",
    "executionInfo": {
     "elapsed": 1193,
     "status": "ok",
     "timestamp": 1594055706469,
     "user": {
      "displayName": "sharmila polamuri",
      "photoUrl": "https://lh3.googleusercontent.com/a-/AOh14GitHqSahKsh5l1AAtYV33Yfwpc77erHqm57l5OWOOU=s64",
      "userId": "15785241321524451082"
     },
     "user_tz": -330
    },
    "id": "WsTwOnO0D-VL",
    "outputId": "0c17bbfd-087a-4b16-9a45-31e240b8f079"
   },
   "outputs": [
    {
     "data": {
      "text/plain": [
       "<tf.Tensor 'one_hot_1:0' shape=(7628, 4) dtype=int32>"
      ]
     },
     "execution_count": 14,
     "metadata": {},
     "output_type": "execute_result"
    }
   ],
   "source": [
    "labels1"
   ]
  },
  {
   "cell_type": "code",
   "execution_count": 15,
   "metadata": {
    "colab": {
     "base_uri": "https://localhost:8080/",
     "height": 204
    },
    "colab_type": "code",
    "executionInfo": {
     "elapsed": 1208,
     "status": "ok",
     "timestamp": 1594055774597,
     "user": {
      "displayName": "sharmila polamuri",
      "photoUrl": "https://lh3.googleusercontent.com/a-/AOh14GitHqSahKsh5l1AAtYV33Yfwpc77erHqm57l5OWOOU=s64",
      "userId": "15785241321524451082"
     },
     "user_tz": -330
    },
    "id": "U7TXnr1pkG-E",
    "outputId": "e9c2e1f1-282d-4101-c1d1-61a1582def7b"
   },
   "outputs": [
    {
     "data": {
      "text/html": [
       "<div>\n",
       "<style scoped>\n",
       "    .dataframe tbody tr th:only-of-type {\n",
       "        vertical-align: middle;\n",
       "    }\n",
       "\n",
       "    .dataframe tbody tr th {\n",
       "        vertical-align: top;\n",
       "    }\n",
       "\n",
       "    .dataframe thead th {\n",
       "        text-align: right;\n",
       "    }\n",
       "</style>\n",
       "<table border=\"1\" class=\"dataframe\">\n",
       "  <thead>\n",
       "    <tr style=\"text-align: right;\">\n",
       "      <th></th>\n",
       "      <th>STORY</th>\n",
       "    </tr>\n",
       "  </thead>\n",
       "  <tbody>\n",
       "    <tr>\n",
       "      <td>0</td>\n",
       "      <td>2019 will see gadgets like gaming smartphones ...</td>\n",
       "    </tr>\n",
       "    <tr>\n",
       "      <td>1</td>\n",
       "      <td>It has also unleashed a wave of changes in the...</td>\n",
       "    </tr>\n",
       "    <tr>\n",
       "      <td>2</td>\n",
       "      <td>It can be confusing to pick the right smartpho...</td>\n",
       "    </tr>\n",
       "    <tr>\n",
       "      <td>3</td>\n",
       "      <td>The mobile application is integrated with a da...</td>\n",
       "    </tr>\n",
       "    <tr>\n",
       "      <td>4</td>\n",
       "      <td>We have rounded up some of the gadgets that sh...</td>\n",
       "    </tr>\n",
       "  </tbody>\n",
       "</table>\n",
       "</div>"
      ],
      "text/plain": [
       "                                               STORY\n",
       "0  2019 will see gadgets like gaming smartphones ...\n",
       "1  It has also unleashed a wave of changes in the...\n",
       "2  It can be confusing to pick the right smartpho...\n",
       "3  The mobile application is integrated with a da...\n",
       "4  We have rounded up some of the gadgets that sh..."
      ]
     },
     "execution_count": 15,
     "metadata": {},
     "output_type": "execute_result"
    }
   ],
   "source": [
    "df_test.head()"
   ]
  },
  {
   "cell_type": "code",
   "execution_count": 20,
   "metadata": {},
   "outputs": [
    {
     "ename": "AttributeError",
     "evalue": "'Tensor' object has no attribute 'to_list'",
     "output_type": "error",
     "traceback": [
      "\u001b[0;31m---------------------------------------------------------------------------\u001b[0m",
      "\u001b[0;31mAttributeError\u001b[0m                            Traceback (most recent call last)",
      "\u001b[0;32m<ipython-input-20-d870566a6fb6>\u001b[0m in \u001b[0;36m<module>\u001b[0;34m\u001b[0m\n\u001b[0;32m----> 1\u001b[0;31m \u001b[0mlabels1\u001b[0m\u001b[0;34m.\u001b[0m\u001b[0mto_list\u001b[0m\u001b[0;34m(\u001b[0m\u001b[0;34m)\u001b[0m\u001b[0;34m\u001b[0m\u001b[0;34m\u001b[0m\u001b[0m\n\u001b[0m",
      "\u001b[0;31mAttributeError\u001b[0m: 'Tensor' object has no attribute 'to_list'"
     ]
    }
   ],
   "source": [
    "labels1.to_list()"
   ]
  },
  {
   "cell_type": "code",
   "execution_count": 22,
   "metadata": {},
   "outputs": [
    {
     "data": {
      "text/plain": [
       "tensorflow.python.framework.ops.Tensor"
      ]
     },
     "execution_count": 22,
     "metadata": {},
     "output_type": "execute_result"
    }
   ],
   "source": [
    "type(labels1)"
   ]
  },
  {
   "cell_type": "code",
   "execution_count": 18,
   "metadata": {
    "colab": {
     "base_uri": "https://localhost:8080/",
     "height": 34
    },
    "colab_type": "code",
    "executionInfo": {
     "elapsed": 1183,
     "status": "ok",
     "timestamp": 1594055777740,
     "user": {
      "displayName": "sharmila polamuri",
      "photoUrl": "https://lh3.googleusercontent.com/a-/AOh14GitHqSahKsh5l1AAtYV33Yfwpc77erHqm57l5OWOOU=s64",
      "userId": "15785241321524451082"
     },
     "user_tz": -330
    },
    "id": "BG55yeiBAeAR",
    "outputId": "89abae45-0532-41a1-d753-4c58fa392aae"
   },
   "outputs": [
    {
     "ename": "TypeError",
     "evalue": "Tensor objects are only iterable when eager execution is enabled. To iterate over this tensor use tf.map_fn.",
     "output_type": "error",
     "traceback": [
      "\u001b[0;31m---------------------------------------------------------------------------\u001b[0m",
      "\u001b[0;31mTypeError\u001b[0m                                 Traceback (most recent call last)",
      "\u001b[0;32m<ipython-input-18-f1d88fa15e4a>\u001b[0m in \u001b[0;36m<module>\u001b[0;34m\u001b[0m\n\u001b[0;32m----> 1\u001b[0;31m \u001b[0mlen\u001b[0m\u001b[0;34m(\u001b[0m\u001b[0msentences\u001b[0m\u001b[0;34m)\u001b[0m\u001b[0;34m,\u001b[0m\u001b[0mlen\u001b[0m\u001b[0;34m(\u001b[0m\u001b[0mlist\u001b[0m\u001b[0;34m(\u001b[0m\u001b[0mlabels1\u001b[0m\u001b[0;34m)\u001b[0m\u001b[0;34m)\u001b[0m\u001b[0;34m\u001b[0m\u001b[0;34m\u001b[0m\u001b[0m\n\u001b[0m",
      "\u001b[0;32m/anaconda3/lib/python3.7/site-packages/tensorflow/python/framework/ops.py\u001b[0m in \u001b[0;36m__iter__\u001b[0;34m(self)\u001b[0m\n\u001b[1;32m    475\u001b[0m     \u001b[0;32mif\u001b[0m \u001b[0;32mnot\u001b[0m \u001b[0mcontext\u001b[0m\u001b[0;34m.\u001b[0m\u001b[0mexecuting_eagerly\u001b[0m\u001b[0;34m(\u001b[0m\u001b[0;34m)\u001b[0m\u001b[0;34m:\u001b[0m\u001b[0;34m\u001b[0m\u001b[0;34m\u001b[0m\u001b[0m\n\u001b[1;32m    476\u001b[0m       raise TypeError(\n\u001b[0;32m--> 477\u001b[0;31m           \u001b[0;34m\"Tensor objects are only iterable when eager execution is \"\u001b[0m\u001b[0;34m\u001b[0m\u001b[0;34m\u001b[0m\u001b[0m\n\u001b[0m\u001b[1;32m    478\u001b[0m           \"enabled. To iterate over this tensor use tf.map_fn.\")\n\u001b[1;32m    479\u001b[0m     \u001b[0mshape\u001b[0m \u001b[0;34m=\u001b[0m \u001b[0mself\u001b[0m\u001b[0;34m.\u001b[0m\u001b[0m_shape_tuple\u001b[0m\u001b[0;34m(\u001b[0m\u001b[0;34m)\u001b[0m\u001b[0;34m\u001b[0m\u001b[0;34m\u001b[0m\u001b[0m\n",
      "\u001b[0;31mTypeError\u001b[0m: Tensor objects are only iterable when eager execution is enabled. To iterate over this tensor use tf.map_fn."
     ]
    }
   ],
   "source": [
    "len(sentences),len(list(labels1)"
   ]
  },
  {
   "cell_type": "code",
   "execution_count": 98,
   "metadata": {
    "colab": {},
    "colab_type": "code",
    "executionInfo": {
     "elapsed": 2246,
     "status": "ok",
     "timestamp": 1594055787361,
     "user": {
      "displayName": "sharmila polamuri",
      "photoUrl": "https://lh3.googleusercontent.com/a-/AOh14GitHqSahKsh5l1AAtYV33Yfwpc77erHqm57l5OWOOU=s64",
      "userId": "15785241321524451082"
     },
     "user_tz": -330
    },
    "id": "fFZxFhyejO_Y"
   },
   "outputs": [],
   "source": [
    "#sentences to sequences \n",
    "sequences = tokenizer.texts_to_sequences(sentences)\n",
    "padded = pad_sequences(sequences,padding=\"post\")"
   ]
  },
  {
   "cell_type": "code",
   "execution_count": 18,
   "metadata": {
    "colab": {
     "base_uri": "https://localhost:8080/",
     "height": 173
    },
    "colab_type": "code",
    "executionInfo": {
     "elapsed": 1469,
     "status": "ok",
     "timestamp": 1594049362351,
     "user": {
      "displayName": "sharmila polamuri",
      "photoUrl": "https://lh3.googleusercontent.com/a-/AOh14GitHqSahKsh5l1AAtYV33Yfwpc77erHqm57l5OWOOU=s64",
      "userId": "15785241321524451082"
     },
     "user_tz": -330
    },
    "id": "RxmHk7f2jS84",
    "outputId": "4fc178d9-ee4b-4440-bb83-27132e7da4a9"
   },
   "outputs": [
    {
     "name": "stdout",
     "output_type": "stream",
     "text": [
      "But the most painful was the huge reversal in fee income, unheard of among private sector lenders. Essentially, it means that Yes Bank took it for granted that fees on structured loan deals will be paid and accounted for upfront on its books. As borrowers turned defaulters, the fees tied to these loan deals fell off the cracks. Gill has now vowed to shift to a safer accounting practice of amortizing fee income rather than booking these upfront.\n",
      "\n",
      "\n",
      "Gill’s move to mend past ways means that there will be no nasty surprises in the future. This is good news considering that investors love a clean image and loathe uncertainties.\n",
      "\n",
      "\n",
      "But there is no gain without pain and the promise of a strong and stable balance sheet comes with some sacrifices as well. Investors will have to give up the hopes of phenomenal growth, a promise made by Kapoor.\n",
      "[31  2 95 ...  0  0  0]\n"
     ]
    }
   ],
   "source": [
    "print(sentences[0])\n",
    "print(padded[0])"
   ]
  },
  {
   "cell_type": "code",
   "execution_count": 99,
   "metadata": {
    "colab": {},
    "colab_type": "code",
    "executionInfo": {
     "elapsed": 1319,
     "status": "ok",
     "timestamp": 1594055790948,
     "user": {
      "displayName": "sharmila polamuri",
      "photoUrl": "https://lh3.googleusercontent.com/a-/AOh14GitHqSahKsh5l1AAtYV33Yfwpc77erHqm57l5OWOOU=s64",
      "userId": "15785241321524451082"
     },
     "user_tz": -330
    },
    "id": "oAhg6reCjYxt"
   },
   "outputs": [],
   "source": [
    "vocab_size = 10000\n",
    "embedding_dim = 16\n",
    "max_length = 100\n",
    "trunc_type='post'\n",
    "padding_type='post'\n",
    "oov_tok = \"<OOV>\"\n",
    "training_size = 5000"
   ]
  },
  {
   "cell_type": "code",
   "execution_count": 111,
   "metadata": {
    "colab": {},
    "colab_type": "code",
    "executionInfo": {
     "elapsed": 1582,
     "status": "ok",
     "timestamp": 1594055979405,
     "user": {
      "displayName": "sharmila polamuri",
      "photoUrl": "https://lh3.googleusercontent.com/a-/AOh14GitHqSahKsh5l1AAtYV33Yfwpc77erHqm57l5OWOOU=s64",
      "userId": "15785241321524451082"
     },
     "user_tz": -330
    },
    "id": "XyD1lf6njg3N"
   },
   "outputs": [],
   "source": [
    "training_setences = sentences[:training_size]\n",
    "training_labels = labels[:training_size]\n",
    "testing_sentences = sentences[training_size:]\n",
    "testing_labels = labels[training_size:]"
   ]
  },
  {
   "cell_type": "code",
   "execution_count": 113,
   "metadata": {
    "colab": {},
    "colab_type": "code",
    "executionInfo": {
     "elapsed": 2440,
     "status": "ok",
     "timestamp": 1594056045805,
     "user": {
      "displayName": "sharmila polamuri",
      "photoUrl": "https://lh3.googleusercontent.com/a-/AOh14GitHqSahKsh5l1AAtYV33Yfwpc77erHqm57l5OWOOU=s64",
      "userId": "15785241321524451082"
     },
     "user_tz": -330
    },
    "id": "DKApM8K_kW62"
   },
   "outputs": [],
   "source": [
    "# apply tokeization , setences to sequences on training and test sets\n",
    "tokenizer = Tokenizer(num_words=vocab_size, oov_token=oov_tok)\n",
    "tokenizer.fit_on_texts(training_setences)\n",
    "word_index = tokenizer.word_index\n",
    "\n",
    "training_sequences = tokenizer.texts_to_sequences(training_setences)\n",
    "training_padded = pad_sequences(training_sequences, maxlen=max_length,padding=padding_type,truncating=trunc_type)\n",
    "\n",
    "testing_sequences = tokenizer.texts_to_sequences(testing_sentences)\n",
    "testing_padded = pad_sequences(testing_sequences, maxlen=max_length,padding=padding_type,truncating=trunc_type)"
   ]
  },
  {
   "cell_type": "code",
   "execution_count": 114,
   "metadata": {
    "colab": {
     "base_uri": "https://localhost:8080/",
     "height": 34
    },
    "colab_type": "code",
    "executionInfo": {
     "elapsed": 1153,
     "status": "ok",
     "timestamp": 1594056048526,
     "user": {
      "displayName": "sharmila polamuri",
      "photoUrl": "https://lh3.googleusercontent.com/a-/AOh14GitHqSahKsh5l1AAtYV33Yfwpc77erHqm57l5OWOOU=s64",
      "userId": "15785241321524451082"
     },
     "user_tz": -330
    },
    "id": "mmLBJSyxsb49",
    "outputId": "a7bc8b07-73cb-48ff-a1bc-0ebc45a5f155"
   },
   "outputs": [
    {
     "data": {
      "text/plain": [
       "5000"
      ]
     },
     "execution_count": 114,
     "metadata": {
      "tags": []
     },
     "output_type": "execute_result"
    }
   ],
   "source": [
    "len(training_padded)"
   ]
  },
  {
   "cell_type": "code",
   "execution_count": 115,
   "metadata": {
    "colab": {
     "base_uri": "https://localhost:8080/",
     "height": 136
    },
    "colab_type": "code",
    "executionInfo": {
     "elapsed": 1682,
     "status": "ok",
     "timestamp": 1594056051780,
     "user": {
      "displayName": "sharmila polamuri",
      "photoUrl": "https://lh3.googleusercontent.com/a-/AOh14GitHqSahKsh5l1AAtYV33Yfwpc77erHqm57l5OWOOU=s64",
      "userId": "15785241321524451082"
     },
     "user_tz": -330
    },
    "id": "7sDuRcH-kZ3q",
    "outputId": "91d46b43-fc64-44b9-f928-dd29a9048e1c"
   },
   "outputs": [
    {
     "data": {
      "text/plain": [
       "array([[  31,    2,   95, ...,  281,  321, 1895],\n",
       "       [ 132, 4935,    8, ...,    0,    0,    0],\n",
       "       [  95, 1348, 1088, ...,    0,    0,    0],\n",
       "       ...,\n",
       "       [  26,  247,   14, ...,    0,    0,    0],\n",
       "       [  15,  416, 3281, ...,    0,    0,    0],\n",
       "       [  54,  663, 2360, ...,  600,    3,    2]], dtype=int32)"
      ]
     },
     "execution_count": 115,
     "metadata": {
      "tags": []
     },
     "output_type": "execute_result"
    }
   ],
   "source": [
    "training_padded"
   ]
  },
  {
   "cell_type": "code",
   "execution_count": 116,
   "metadata": {
    "colab": {},
    "colab_type": "code",
    "executionInfo": {
     "elapsed": 1206,
     "status": "ok",
     "timestamp": 1594056053796,
     "user": {
      "displayName": "sharmila polamuri",
      "photoUrl": "https://lh3.googleusercontent.com/a-/AOh14GitHqSahKsh5l1AAtYV33Yfwpc77erHqm57l5OWOOU=s64",
      "userId": "15785241321524451082"
     },
     "user_tz": -330
    },
    "id": "LYgzeWzwkffM"
   },
   "outputs": [],
   "source": [
    "import numpy as np\n",
    "training_padded = np.array(training_padded)\n",
    "training_labels = np.array(training_labels)\n",
    "testing_padded = np.array(testing_padded)\n",
    "testing_labels = np.array(testing_labels)"
   ]
  },
  {
   "cell_type": "code",
   "execution_count": 117,
   "metadata": {
    "colab": {
     "base_uri": "https://localhost:8080/",
     "height": 136
    },
    "colab_type": "code",
    "executionInfo": {
     "elapsed": 1224,
     "status": "ok",
     "timestamp": 1594056055854,
     "user": {
      "displayName": "sharmila polamuri",
      "photoUrl": "https://lh3.googleusercontent.com/a-/AOh14GitHqSahKsh5l1AAtYV33Yfwpc77erHqm57l5OWOOU=s64",
      "userId": "15785241321524451082"
     },
     "user_tz": -330
    },
    "id": "yEpvdmdFI0Fi",
    "outputId": "37a85ebe-ee80-4682-9697-fce1e1e94ea0"
   },
   "outputs": [
    {
     "data": {
      "text/plain": [
       "array([[0, 1, 0, 0],\n",
       "       [0, 0, 1, 0],\n",
       "       [0, 1, 0, 0],\n",
       "       ...,\n",
       "       [0, 1, 0, 0],\n",
       "       [1, 0, 0, 0],\n",
       "       [0, 0, 1, 0]], dtype=int32)"
      ]
     },
     "execution_count": 117,
     "metadata": {
      "tags": []
     },
     "output_type": "execute_result"
    }
   ],
   "source": [
    "testing_labels"
   ]
  },
  {
   "cell_type": "code",
   "execution_count": 118,
   "metadata": {
    "colab": {},
    "colab_type": "code",
    "executionInfo": {
     "elapsed": 1723,
     "status": "ok",
     "timestamp": 1594056061170,
     "user": {
      "displayName": "sharmila polamuri",
      "photoUrl": "https://lh3.googleusercontent.com/a-/AOh14GitHqSahKsh5l1AAtYV33Yfwpc77erHqm57l5OWOOU=s64",
      "userId": "15785241321524451082"
     },
     "user_tz": -330
    },
    "id": "r6f2qUm5uE8c"
   },
   "outputs": [],
   "source": [
    "LR = 1e-5"
   ]
  },
  {
   "cell_type": "code",
   "execution_count": null,
   "metadata": {
    "colab": {},
    "colab_type": "code",
    "id": "cMHftq27AxjE"
   },
   "outputs": [],
   "source": []
  },
  {
   "cell_type": "code",
   "execution_count": 119,
   "metadata": {
    "colab": {},
    "colab_type": "code",
    "executionInfo": {
     "elapsed": 1483,
     "status": "ok",
     "timestamp": 1594056066037,
     "user": {
      "displayName": "sharmila polamuri",
      "photoUrl": "https://lh3.googleusercontent.com/a-/AOh14GitHqSahKsh5l1AAtYV33Yfwpc77erHqm57l5OWOOU=s64",
      "userId": "15785241321524451082"
     },
     "user_tz": -330
    },
    "id": "sfeQ4sZMkl1n"
   },
   "outputs": [],
   "source": [
    "# training model\n",
    "model = tf.keras.Sequential([\n",
    "                             tf.keras.layers.Embedding(vocab_size,embedding_dim,input_length=max_length),\n",
    "                             tf.keras.layers.GlobalAveragePooling1D(),\n",
    "                             tf.keras.layers.Dense(1024,activation=\"relu\",name=\"hidden_layer\",),\n",
    "                             tf.keras.layers.Dense(4,activation=\"softmax\",name=\"output\")\n",
    "])"
   ]
  },
  {
   "cell_type": "code",
   "execution_count": 120,
   "metadata": {
    "colab": {},
    "colab_type": "code",
    "executionInfo": {
     "elapsed": 1226,
     "status": "ok",
     "timestamp": 1594056069463,
     "user": {
      "displayName": "sharmila polamuri",
      "photoUrl": "https://lh3.googleusercontent.com/a-/AOh14GitHqSahKsh5l1AAtYV33Yfwpc77erHqm57l5OWOOU=s64",
      "userId": "15785241321524451082"
     },
     "user_tz": -330
    },
    "id": "gFhWbGUelfj5"
   },
   "outputs": [],
   "source": [
    "model.compile(loss = \"categorical_crossentropy\",optimizer=tf.keras.optimizers.Adam(learning_rate=LR),metrics=[\"accuracy\"])"
   ]
  },
  {
   "cell_type": "code",
   "execution_count": 121,
   "metadata": {
    "colab": {
     "base_uri": "https://localhost:8080/",
     "height": 289
    },
    "colab_type": "code",
    "executionInfo": {
     "elapsed": 1222,
     "status": "ok",
     "timestamp": 1594056072122,
     "user": {
      "displayName": "sharmila polamuri",
      "photoUrl": "https://lh3.googleusercontent.com/a-/AOh14GitHqSahKsh5l1AAtYV33Yfwpc77erHqm57l5OWOOU=s64",
      "userId": "15785241321524451082"
     },
     "user_tz": -330
    },
    "id": "LcwqpHFRmIa9",
    "outputId": "f0f00a0d-c0de-4ef7-aa98-17c4ce7baef7"
   },
   "outputs": [
    {
     "name": "stdout",
     "output_type": "stream",
     "text": [
      "Model: \"sequential_5\"\n",
      "_________________________________________________________________\n",
      "Layer (type)                 Output Shape              Param #   \n",
      "=================================================================\n",
      "embedding_5 (Embedding)      (None, 100, 16)           160000    \n",
      "_________________________________________________________________\n",
      "global_average_pooling1d_1 ( (None, 16)                0         \n",
      "_________________________________________________________________\n",
      "hidden_layer (Dense)         (None, 1024)              17408     \n",
      "_________________________________________________________________\n",
      "output (Dense)               (None, 4)                 4100      \n",
      "=================================================================\n",
      "Total params: 181,508\n",
      "Trainable params: 181,508\n",
      "Non-trainable params: 0\n",
      "_________________________________________________________________\n"
     ]
    }
   ],
   "source": [
    "model.summary()"
   ]
  },
  {
   "cell_type": "code",
   "execution_count": 122,
   "metadata": {
    "colab": {
     "base_uri": "https://localhost:8080/",
     "height": 34
    },
    "colab_type": "code",
    "executionInfo": {
     "elapsed": 1883,
     "status": "ok",
     "timestamp": 1594056077758,
     "user": {
      "displayName": "sharmila polamuri",
      "photoUrl": "https://lh3.googleusercontent.com/a-/AOh14GitHqSahKsh5l1AAtYV33Yfwpc77erHqm57l5OWOOU=s64",
      "userId": "15785241321524451082"
     },
     "user_tz": -330
    },
    "id": "I2jqoAPHA4l_",
    "outputId": "1e1687ee-673c-4c44-fbfb-e4080a28eb09"
   },
   "outputs": [
    {
     "data": {
      "text/plain": [
       "(5000, 5000, 2628, 2628)"
      ]
     },
     "execution_count": 122,
     "metadata": {
      "tags": []
     },
     "output_type": "execute_result"
    }
   ],
   "source": [
    "len(training_padded),len(training_labels),len(testing_padded),len(testing_labels)"
   ]
  },
  {
   "cell_type": "code",
   "execution_count": 123,
   "metadata": {
    "colab": {
     "base_uri": "https://localhost:8080/",
     "height": 187
    },
    "colab_type": "code",
    "executionInfo": {
     "elapsed": 1516,
     "status": "ok",
     "timestamp": 1594056085159,
     "user": {
      "displayName": "sharmila polamuri",
      "photoUrl": "https://lh3.googleusercontent.com/a-/AOh14GitHqSahKsh5l1AAtYV33Yfwpc77erHqm57l5OWOOU=s64",
      "userId": "15785241321524451082"
     },
     "user_tz": -330
    },
    "id": "IhCT7_nKBEZX",
    "outputId": "a07ac964-6d24-419d-ae0e-34067a305ed1"
   },
   "outputs": [
    {
     "data": {
      "text/plain": [
       "array([  31,    2,   95, 7553,   24,    2,  917, 6752,    6, 3045,  552,\n",
       "          1,    5,  187,  631,  710, 2830, 3046,   13,  696,   11, 1327,\n",
       "        214,  524,   13,   10, 4614,   11, 2831,    9, 5666, 1328, 1708,\n",
       "         16,   20, 1456,    4, 2479,   10, 7554,    9,   25, 2832,   15,\n",
       "       5667,  906,    1,    2, 2831, 3298,    3,  109, 1328, 1708,  484,\n",
       "        232,    2,    1, 4933,   14,   85, 7555,    3, 1286,    3,    7,\n",
       "       5668, 3299, 3300,    5,    1, 3045,  552, 1399,   65, 3431,  109,\n",
       "       7554,    1,  479,    3,    1,  323, 1287,  696,   11,   70,   16,\n",
       "         20,  119,    1,    1,    6,    2,  444,   26,    8,  281,  321,\n",
       "       1895], dtype=int32)"
      ]
     },
     "execution_count": 123,
     "metadata": {
      "tags": []
     },
     "output_type": "execute_result"
    }
   ],
   "source": [
    "training_padded[0]"
   ]
  },
  {
   "cell_type": "code",
   "execution_count": 124,
   "metadata": {
    "colab": {
     "base_uri": "https://localhost:8080/",
     "height": 34
    },
    "colab_type": "code",
    "executionInfo": {
     "elapsed": 1604,
     "status": "ok",
     "timestamp": 1594056087897,
     "user": {
      "displayName": "sharmila polamuri",
      "photoUrl": "https://lh3.googleusercontent.com/a-/AOh14GitHqSahKsh5l1AAtYV33Yfwpc77erHqm57l5OWOOU=s64",
      "userId": "15785241321524451082"
     },
     "user_tz": -330
    },
    "id": "JxMXndgkBhHF",
    "outputId": "edb786b1-a4e9-4ad9-8951-83a296166710"
   },
   "outputs": [
    {
     "data": {
      "text/plain": [
       "array([0, 0, 0, 1], dtype=int32)"
      ]
     },
     "execution_count": 124,
     "metadata": {
      "tags": []
     },
     "output_type": "execute_result"
    }
   ],
   "source": [
    "training_labels[0]"
   ]
  },
  {
   "cell_type": "code",
   "execution_count": 125,
   "metadata": {
    "colab": {
     "base_uri": "https://localhost:8080/",
     "height": 187
    },
    "colab_type": "code",
    "executionInfo": {
     "elapsed": 721,
     "status": "ok",
     "timestamp": 1594056089680,
     "user": {
      "displayName": "sharmila polamuri",
      "photoUrl": "https://lh3.googleusercontent.com/a-/AOh14GitHqSahKsh5l1AAtYV33Yfwpc77erHqm57l5OWOOU=s64",
      "userId": "15785241321524451082"
     },
     "user_tz": -330
    },
    "id": "bExzPxXcBkHg",
    "outputId": "33d6ce96-dc78-4062-96b3-dcdd154ccc6c"
   },
   "outputs": [
    {
     "data": {
      "text/plain": [
       "array([1017,   57,  107,    5,    1,    2,  363,   14, 3806,    9, 4658,\n",
       "          1,    1,   28, 1381,    1,   15,    2,  672, 1308,    3, 3683,\n",
       "       1637, 1249,   65,  112,    1,  608,    2,  968,  248,    6,  104,\n",
       "        383, 2939, 6470, 6229, 1620, 3622,    6,    2,  213,  640,    4,\n",
       "       1243,    6,  462,    1, 2216,  160, 7530, 8278,    2,  905, 3012,\n",
       "          5,    2, 8385,   66,   13,  935,    7, 1176,   11,   44, 1316,\n",
       "       5420,    1, 8606,   10,  402, 6757,  777,   13,    7, 9429,    2,\n",
       "        808,  420,   14,    1,  124,  223, 7530,   14,  288,  653, 2116,\n",
       "         10,  138,  190, 1986, 1906,  120, 1701,   11, 1316,    1,    1,\n",
       "        111], dtype=int32)"
      ]
     },
     "execution_count": 125,
     "metadata": {
      "tags": []
     },
     "output_type": "execute_result"
    }
   ],
   "source": [
    "testing_padded[0]"
   ]
  },
  {
   "cell_type": "code",
   "execution_count": 126,
   "metadata": {
    "colab": {
     "base_uri": "https://localhost:8080/",
     "height": 34
    },
    "colab_type": "code",
    "executionInfo": {
     "elapsed": 1347,
     "status": "ok",
     "timestamp": 1594056092889,
     "user": {
      "displayName": "sharmila polamuri",
      "photoUrl": "https://lh3.googleusercontent.com/a-/AOh14GitHqSahKsh5l1AAtYV33Yfwpc77erHqm57l5OWOOU=s64",
      "userId": "15785241321524451082"
     },
     "user_tz": -330
    },
    "id": "csD0wwnRBnhP",
    "outputId": "abd8283d-8f6b-4c54-8aa1-bb77ff050f49"
   },
   "outputs": [
    {
     "data": {
      "text/plain": [
       "array([0, 1, 0, 0], dtype=int32)"
      ]
     },
     "execution_count": 126,
     "metadata": {
      "tags": []
     },
     "output_type": "execute_result"
    }
   ],
   "source": [
    "testing_labels[0]"
   ]
  },
  {
   "cell_type": "code",
   "execution_count": 127,
   "metadata": {
    "colab": {
     "base_uri": "https://localhost:8080/",
     "height": 1000
    },
    "colab_type": "code",
    "executionInfo": {
     "elapsed": 28774,
     "status": "ok",
     "timestamp": 1594056125173,
     "user": {
      "displayName": "sharmila polamuri",
      "photoUrl": "https://lh3.googleusercontent.com/a-/AOh14GitHqSahKsh5l1AAtYV33Yfwpc77erHqm57l5OWOOU=s64",
      "userId": "15785241321524451082"
     },
     "user_tz": -330
    },
    "id": "f82ebHNImh4l",
    "outputId": "cb0eea4b-e403-4140-a4a3-a3c0c054db23"
   },
   "outputs": [
    {
     "name": "stdout",
     "output_type": "stream",
     "text": [
      "Epoch 1/30\n",
      "157/157 - 1s - loss: 1.3833 - accuracy: 0.3940 - val_loss: 1.3805 - val_accuracy: 0.3885\n",
      "Epoch 2/30\n",
      "157/157 - 1s - loss: 1.3773 - accuracy: 0.3644 - val_loss: 1.3747 - val_accuracy: 0.3668\n",
      "Epoch 3/30\n",
      "157/157 - 1s - loss: 1.3712 - accuracy: 0.3624 - val_loss: 1.3687 - val_accuracy: 0.3664\n",
      "Epoch 4/30\n",
      "157/157 - 1s - loss: 1.3649 - accuracy: 0.3618 - val_loss: 1.3624 - val_accuracy: 0.3664\n",
      "Epoch 5/30\n",
      "157/157 - 1s - loss: 1.3583 - accuracy: 0.3616 - val_loss: 1.3560 - val_accuracy: 0.3664\n",
      "Epoch 6/30\n",
      "157/157 - 1s - loss: 1.3513 - accuracy: 0.3622 - val_loss: 1.3492 - val_accuracy: 0.3676\n",
      "Epoch 7/30\n",
      "157/157 - 1s - loss: 1.3441 - accuracy: 0.3730 - val_loss: 1.3422 - val_accuracy: 0.3889\n",
      "Epoch 8/30\n",
      "157/157 - 1s - loss: 1.3364 - accuracy: 0.4050 - val_loss: 1.3348 - val_accuracy: 0.4075\n",
      "Epoch 9/30\n",
      "157/157 - 1s - loss: 1.3284 - accuracy: 0.4164 - val_loss: 1.3272 - val_accuracy: 0.4155\n",
      "Epoch 10/30\n",
      "157/157 - 1s - loss: 1.3203 - accuracy: 0.4270 - val_loss: 1.3195 - val_accuracy: 0.4216\n",
      "Epoch 11/30\n",
      "157/157 - 1s - loss: 1.3119 - accuracy: 0.4322 - val_loss: 1.3115 - val_accuracy: 0.4304\n",
      "Epoch 12/30\n",
      "157/157 - 1s - loss: 1.3034 - accuracy: 0.4396 - val_loss: 1.3034 - val_accuracy: 0.4315\n",
      "Epoch 13/30\n",
      "157/157 - 1s - loss: 1.2946 - accuracy: 0.4450 - val_loss: 1.2951 - val_accuracy: 0.4399\n",
      "Epoch 14/30\n",
      "157/157 - 1s - loss: 1.2857 - accuracy: 0.4508 - val_loss: 1.2867 - val_accuracy: 0.4467\n",
      "Epoch 15/30\n",
      "157/157 - 1s - loss: 1.2766 - accuracy: 0.4562 - val_loss: 1.2782 - val_accuracy: 0.4532\n",
      "Epoch 16/30\n",
      "157/157 - 1s - loss: 1.2675 - accuracy: 0.4586 - val_loss: 1.2697 - val_accuracy: 0.4543\n",
      "Epoch 17/30\n",
      "157/157 - 1s - loss: 1.2583 - accuracy: 0.4606 - val_loss: 1.2612 - val_accuracy: 0.4566\n",
      "Epoch 18/30\n",
      "157/157 - 1s - loss: 1.2493 - accuracy: 0.4614 - val_loss: 1.2528 - val_accuracy: 0.4578\n",
      "Epoch 19/30\n",
      "157/157 - 1s - loss: 1.2403 - accuracy: 0.4630 - val_loss: 1.2446 - val_accuracy: 0.4619\n",
      "Epoch 20/30\n",
      "157/157 - 1s - loss: 1.2315 - accuracy: 0.4640 - val_loss: 1.2363 - val_accuracy: 0.4635\n",
      "Epoch 21/30\n",
      "157/157 - 1s - loss: 1.2229 - accuracy: 0.4668 - val_loss: 1.2284 - val_accuracy: 0.4650\n",
      "Epoch 22/30\n",
      "157/157 - 1s - loss: 1.2145 - accuracy: 0.4680 - val_loss: 1.2208 - val_accuracy: 0.4669\n",
      "Epoch 23/30\n",
      "157/157 - 1s - loss: 1.2063 - accuracy: 0.4672 - val_loss: 1.2133 - val_accuracy: 0.4677\n",
      "Epoch 24/30\n",
      "157/157 - 1s - loss: 1.1985 - accuracy: 0.4682 - val_loss: 1.2061 - val_accuracy: 0.4661\n",
      "Epoch 25/30\n",
      "157/157 - 1s - loss: 1.1908 - accuracy: 0.4686 - val_loss: 1.1992 - val_accuracy: 0.4665\n",
      "Epoch 26/30\n",
      "157/157 - 1s - loss: 1.1835 - accuracy: 0.4688 - val_loss: 1.1923 - val_accuracy: 0.4684\n",
      "Epoch 27/30\n",
      "157/157 - 1s - loss: 1.1763 - accuracy: 0.4694 - val_loss: 1.1859 - val_accuracy: 0.4699\n",
      "Epoch 28/30\n",
      "157/157 - 1s - loss: 1.1694 - accuracy: 0.4720 - val_loss: 1.1795 - val_accuracy: 0.4718\n",
      "Epoch 29/30\n",
      "157/157 - 1s - loss: 1.1627 - accuracy: 0.4772 - val_loss: 1.1733 - val_accuracy: 0.4779\n",
      "Epoch 30/30\n",
      "157/157 - 1s - loss: 1.1560 - accuracy: 0.4890 - val_loss: 1.1672 - val_accuracy: 0.4859\n"
     ]
    },
    {
     "data": {
      "text/plain": [
       "<tensorflow.python.keras.callbacks.History at 0x7fb1a8b379e8>"
      ]
     },
     "execution_count": 127,
     "metadata": {
      "tags": []
     },
     "output_type": "execute_result"
    }
   ],
   "source": [
    "num_epochs = 30\n",
    "model.fit(training_padded,training_labels,epochs=num_epochs,validation_data=(testing_padded,testing_labels),verbose=2)"
   ]
  },
  {
   "cell_type": "code",
   "execution_count": null,
   "metadata": {
    "colab": {},
    "colab_type": "code",
    "id": "Ey3ltmOw_7bs"
   },
   "outputs": [],
   "source": []
  },
  {
   "cell_type": "code",
   "execution_count": 128,
   "metadata": {
    "colab": {
     "base_uri": "https://localhost:8080/",
     "height": 1000
    },
    "colab_type": "code",
    "executionInfo": {
     "elapsed": 66871,
     "status": "ok",
     "timestamp": 1594056199110,
     "user": {
      "displayName": "sharmila polamuri",
      "photoUrl": "https://lh3.googleusercontent.com/a-/AOh14GitHqSahKsh5l1AAtYV33Yfwpc77erHqm57l5OWOOU=s64",
      "userId": "15785241321524451082"
     },
     "user_tz": -330
    },
    "id": "TFui-2mpmgEP",
    "outputId": "578c56b7-20b7-43a5-b707-14d9c860e6b8"
   },
   "outputs": [
    {
     "name": "stdout",
     "output_type": "stream",
     "text": [
      "Epoch 1/100\n",
      "157/157 - 1s - loss: 1.1496 - accuracy: 0.4958\n",
      "Epoch 2/100\n",
      "157/157 - 1s - loss: 1.1433 - accuracy: 0.5070\n",
      "Epoch 3/100\n",
      "157/157 - 1s - loss: 1.1370 - accuracy: 0.5162\n",
      "Epoch 4/100\n",
      "157/157 - 1s - loss: 1.1307 - accuracy: 0.5274\n",
      "Epoch 5/100\n",
      "157/157 - 1s - loss: 1.1245 - accuracy: 0.5344\n",
      "Epoch 6/100\n",
      "157/157 - 1s - loss: 1.1183 - accuracy: 0.5416\n",
      "Epoch 7/100\n",
      "157/157 - 1s - loss: 1.1119 - accuracy: 0.5480\n",
      "Epoch 8/100\n",
      "157/157 - 1s - loss: 1.1055 - accuracy: 0.5546\n",
      "Epoch 9/100\n",
      "157/157 - 1s - loss: 1.0991 - accuracy: 0.5582\n",
      "Epoch 10/100\n",
      "157/157 - 1s - loss: 1.0925 - accuracy: 0.5664\n",
      "Epoch 11/100\n",
      "157/157 - 1s - loss: 1.0858 - accuracy: 0.5700\n",
      "Epoch 12/100\n",
      "157/157 - 1s - loss: 1.0789 - accuracy: 0.5776\n",
      "Epoch 13/100\n",
      "157/157 - 1s - loss: 1.0720 - accuracy: 0.5826\n",
      "Epoch 14/100\n",
      "157/157 - 1s - loss: 1.0650 - accuracy: 0.5894\n",
      "Epoch 15/100\n",
      "157/157 - 1s - loss: 1.0577 - accuracy: 0.5926\n",
      "Epoch 16/100\n",
      "157/157 - 1s - loss: 1.0503 - accuracy: 0.5960\n",
      "Epoch 17/100\n",
      "157/157 - 1s - loss: 1.0428 - accuracy: 0.5976\n",
      "Epoch 18/100\n",
      "157/157 - 1s - loss: 1.0351 - accuracy: 0.6028\n",
      "Epoch 19/100\n",
      "157/157 - 1s - loss: 1.0271 - accuracy: 0.6048\n",
      "Epoch 20/100\n",
      "157/157 - 1s - loss: 1.0190 - accuracy: 0.6078\n",
      "Epoch 21/100\n",
      "157/157 - 1s - loss: 1.0107 - accuracy: 0.6122\n",
      "Epoch 22/100\n",
      "157/157 - 1s - loss: 1.0023 - accuracy: 0.6170\n",
      "Epoch 23/100\n",
      "157/157 - 1s - loss: 0.9937 - accuracy: 0.6196\n",
      "Epoch 24/100\n",
      "157/157 - 1s - loss: 0.9849 - accuracy: 0.6224\n",
      "Epoch 25/100\n",
      "157/157 - 1s - loss: 0.9759 - accuracy: 0.6270\n",
      "Epoch 26/100\n",
      "157/157 - 1s - loss: 0.9667 - accuracy: 0.6318\n",
      "Epoch 27/100\n",
      "157/157 - 1s - loss: 0.9574 - accuracy: 0.6338\n",
      "Epoch 28/100\n",
      "157/157 - 1s - loss: 0.9479 - accuracy: 0.6368\n",
      "Epoch 29/100\n",
      "157/157 - 1s - loss: 0.9382 - accuracy: 0.6416\n",
      "Epoch 30/100\n",
      "157/157 - 1s - loss: 0.9284 - accuracy: 0.6460\n",
      "Epoch 31/100\n",
      "157/157 - 1s - loss: 0.9184 - accuracy: 0.6512\n",
      "Epoch 32/100\n",
      "157/157 - 1s - loss: 0.9083 - accuracy: 0.6546\n",
      "Epoch 33/100\n",
      "157/157 - 1s - loss: 0.8981 - accuracy: 0.6608\n",
      "Epoch 34/100\n",
      "157/157 - 1s - loss: 0.8878 - accuracy: 0.6658\n",
      "Epoch 35/100\n",
      "157/157 - 1s - loss: 0.8774 - accuracy: 0.6690\n",
      "Epoch 36/100\n",
      "157/157 - 1s - loss: 0.8668 - accuracy: 0.6728\n",
      "Epoch 37/100\n",
      "157/157 - 1s - loss: 0.8561 - accuracy: 0.6780\n",
      "Epoch 38/100\n",
      "157/157 - 1s - loss: 0.8453 - accuracy: 0.6842\n",
      "Epoch 39/100\n",
      "157/157 - 1s - loss: 0.8343 - accuracy: 0.6890\n",
      "Epoch 40/100\n",
      "157/157 - 1s - loss: 0.8234 - accuracy: 0.6946\n",
      "Epoch 41/100\n",
      "157/157 - 1s - loss: 0.8124 - accuracy: 0.7006\n",
      "Epoch 42/100\n",
      "157/157 - 1s - loss: 0.8014 - accuracy: 0.7052\n",
      "Epoch 43/100\n",
      "157/157 - 1s - loss: 0.7903 - accuracy: 0.7088\n",
      "Epoch 44/100\n",
      "157/157 - 1s - loss: 0.7792 - accuracy: 0.7176\n",
      "Epoch 45/100\n",
      "157/157 - 1s - loss: 0.7681 - accuracy: 0.7230\n",
      "Epoch 46/100\n",
      "157/157 - 1s - loss: 0.7570 - accuracy: 0.7294\n",
      "Epoch 47/100\n",
      "157/157 - 1s - loss: 0.7459 - accuracy: 0.7340\n",
      "Epoch 48/100\n",
      "157/157 - 1s - loss: 0.7349 - accuracy: 0.7394\n",
      "Epoch 49/100\n",
      "157/157 - 1s - loss: 0.7239 - accuracy: 0.7452\n",
      "Epoch 50/100\n",
      "157/157 - 1s - loss: 0.7130 - accuracy: 0.7492\n",
      "Epoch 51/100\n",
      "157/157 - 1s - loss: 0.7022 - accuracy: 0.7550\n",
      "Epoch 52/100\n",
      "157/157 - 1s - loss: 0.6915 - accuracy: 0.7600\n",
      "Epoch 53/100\n",
      "157/157 - 1s - loss: 0.6809 - accuracy: 0.7640\n",
      "Epoch 54/100\n",
      "157/157 - 1s - loss: 0.6704 - accuracy: 0.7694\n",
      "Epoch 55/100\n",
      "157/157 - 1s - loss: 0.6600 - accuracy: 0.7744\n",
      "Epoch 56/100\n",
      "157/157 - 1s - loss: 0.6497 - accuracy: 0.7776\n",
      "Epoch 57/100\n",
      "157/157 - 1s - loss: 0.6396 - accuracy: 0.7824\n",
      "Epoch 58/100\n",
      "157/157 - 1s - loss: 0.6295 - accuracy: 0.7860\n",
      "Epoch 59/100\n",
      "157/157 - 1s - loss: 0.6197 - accuracy: 0.7890\n",
      "Epoch 60/100\n",
      "157/157 - 1s - loss: 0.6099 - accuracy: 0.7940\n",
      "Epoch 61/100\n",
      "157/157 - 1s - loss: 0.6003 - accuracy: 0.7980\n",
      "Epoch 62/100\n",
      "157/157 - 1s - loss: 0.5908 - accuracy: 0.8020\n",
      "Epoch 63/100\n",
      "157/157 - 1s - loss: 0.5815 - accuracy: 0.8060\n",
      "Epoch 64/100\n",
      "157/157 - 1s - loss: 0.5724 - accuracy: 0.8104\n",
      "Epoch 65/100\n",
      "157/157 - 1s - loss: 0.5634 - accuracy: 0.8160\n",
      "Epoch 66/100\n",
      "157/157 - 1s - loss: 0.5546 - accuracy: 0.8202\n",
      "Epoch 67/100\n",
      "157/157 - 1s - loss: 0.5460 - accuracy: 0.8268\n",
      "Epoch 68/100\n",
      "157/157 - 1s - loss: 0.5375 - accuracy: 0.8316\n",
      "Epoch 69/100\n",
      "157/157 - 1s - loss: 0.5292 - accuracy: 0.8356\n",
      "Epoch 70/100\n",
      "157/157 - 1s - loss: 0.5210 - accuracy: 0.8386\n",
      "Epoch 71/100\n",
      "157/157 - 1s - loss: 0.5129 - accuracy: 0.8436\n",
      "Epoch 72/100\n",
      "157/157 - 1s - loss: 0.5050 - accuracy: 0.8472\n",
      "Epoch 73/100\n",
      "157/157 - 1s - loss: 0.4972 - accuracy: 0.8524\n",
      "Epoch 74/100\n",
      "157/157 - 1s - loss: 0.4896 - accuracy: 0.8578\n",
      "Epoch 75/100\n",
      "157/157 - 1s - loss: 0.4821 - accuracy: 0.8634\n",
      "Epoch 76/100\n",
      "157/157 - 1s - loss: 0.4747 - accuracy: 0.8670\n",
      "Epoch 77/100\n",
      "157/157 - 1s - loss: 0.4675 - accuracy: 0.8712\n",
      "Epoch 78/100\n",
      "157/157 - 1s - loss: 0.4604 - accuracy: 0.8756\n",
      "Epoch 79/100\n",
      "157/157 - 1s - loss: 0.4535 - accuracy: 0.8786\n",
      "Epoch 80/100\n",
      "157/157 - 1s - loss: 0.4466 - accuracy: 0.8838\n",
      "Epoch 81/100\n",
      "157/157 - 1s - loss: 0.4399 - accuracy: 0.8876\n",
      "Epoch 82/100\n",
      "157/157 - 1s - loss: 0.4333 - accuracy: 0.8902\n",
      "Epoch 83/100\n",
      "157/157 - 1s - loss: 0.4268 - accuracy: 0.8930\n",
      "Epoch 84/100\n",
      "157/157 - 1s - loss: 0.4205 - accuracy: 0.8950\n",
      "Epoch 85/100\n",
      "157/157 - 1s - loss: 0.4142 - accuracy: 0.8972\n",
      "Epoch 86/100\n",
      "157/157 - 1s - loss: 0.4081 - accuracy: 0.8986\n",
      "Epoch 87/100\n",
      "157/157 - 1s - loss: 0.4021 - accuracy: 0.9016\n",
      "Epoch 88/100\n",
      "157/157 - 1s - loss: 0.3962 - accuracy: 0.9036\n",
      "Epoch 89/100\n",
      "157/157 - 1s - loss: 0.3903 - accuracy: 0.9072\n",
      "Epoch 90/100\n",
      "157/157 - 1s - loss: 0.3846 - accuracy: 0.9082\n",
      "Epoch 91/100\n",
      "157/157 - 1s - loss: 0.3790 - accuracy: 0.9092\n",
      "Epoch 92/100\n",
      "157/157 - 1s - loss: 0.3735 - accuracy: 0.9120\n",
      "Epoch 93/100\n",
      "157/157 - 1s - loss: 0.3680 - accuracy: 0.9140\n",
      "Epoch 94/100\n",
      "157/157 - 1s - loss: 0.3627 - accuracy: 0.9154\n",
      "Epoch 95/100\n",
      "157/157 - 1s - loss: 0.3575 - accuracy: 0.9164\n",
      "Epoch 96/100\n",
      "157/157 - 1s - loss: 0.3523 - accuracy: 0.9176\n",
      "Epoch 97/100\n",
      "157/157 - 1s - loss: 0.3473 - accuracy: 0.9182\n",
      "Epoch 98/100\n",
      "157/157 - 1s - loss: 0.3423 - accuracy: 0.9188\n",
      "Epoch 99/100\n",
      "157/157 - 1s - loss: 0.3374 - accuracy: 0.9216\n",
      "Epoch 100/100\n",
      "157/157 - 1s - loss: 0.3326 - accuracy: 0.9222\n"
     ]
    },
    {
     "data": {
      "text/plain": [
       "<tensorflow.python.keras.callbacks.History at 0x7fb1a7fdc5c0>"
      ]
     },
     "execution_count": 128,
     "metadata": {
      "tags": []
     },
     "output_type": "execute_result"
    }
   ],
   "source": [
    "num_epochs = 100\n",
    "model.fit(training_padded,training_labels,epochs=num_epochs,verbose=2)"
   ]
  },
  {
   "cell_type": "code",
   "execution_count": 131,
   "metadata": {
    "colab": {
     "base_uri": "https://localhost:8080/",
     "height": 204
    },
    "colab_type": "code",
    "executionInfo": {
     "elapsed": 1169,
     "status": "ok",
     "timestamp": 1594056249443,
     "user": {
      "displayName": "sharmila polamuri",
      "photoUrl": "https://lh3.googleusercontent.com/a-/AOh14GitHqSahKsh5l1AAtYV33Yfwpc77erHqm57l5OWOOU=s64",
      "userId": "15785241321524451082"
     },
     "user_tz": -330
    },
    "id": "ag9aR-AQJ-2L",
    "outputId": "39b19ea6-636c-43f2-efbf-9124c5ea4cca"
   },
   "outputs": [
    {
     "data": {
      "text/html": [
       "<div>\n",
       "<style scoped>\n",
       "    .dataframe tbody tr th:only-of-type {\n",
       "        vertical-align: middle;\n",
       "    }\n",
       "\n",
       "    .dataframe tbody tr th {\n",
       "        vertical-align: top;\n",
       "    }\n",
       "\n",
       "    .dataframe thead th {\n",
       "        text-align: right;\n",
       "    }\n",
       "</style>\n",
       "<table border=\"1\" class=\"dataframe\">\n",
       "  <thead>\n",
       "    <tr style=\"text-align: right;\">\n",
       "      <th></th>\n",
       "      <th>STORY</th>\n",
       "    </tr>\n",
       "  </thead>\n",
       "  <tbody>\n",
       "    <tr>\n",
       "      <th>0</th>\n",
       "      <td>2019 will see gadgets like gaming smartphones ...</td>\n",
       "    </tr>\n",
       "    <tr>\n",
       "      <th>1</th>\n",
       "      <td>It has also unleashed a wave of changes in the...</td>\n",
       "    </tr>\n",
       "    <tr>\n",
       "      <th>2</th>\n",
       "      <td>It can be confusing to pick the right smartpho...</td>\n",
       "    </tr>\n",
       "    <tr>\n",
       "      <th>3</th>\n",
       "      <td>The mobile application is integrated with a da...</td>\n",
       "    </tr>\n",
       "    <tr>\n",
       "      <th>4</th>\n",
       "      <td>We have rounded up some of the gadgets that sh...</td>\n",
       "    </tr>\n",
       "  </tbody>\n",
       "</table>\n",
       "</div>"
      ],
      "text/plain": [
       "                                               STORY\n",
       "0  2019 will see gadgets like gaming smartphones ...\n",
       "1  It has also unleashed a wave of changes in the...\n",
       "2  It can be confusing to pick the right smartpho...\n",
       "3  The mobile application is integrated with a da...\n",
       "4  We have rounded up some of the gadgets that sh..."
      ]
     },
     "execution_count": 131,
     "metadata": {
      "tags": []
     },
     "output_type": "execute_result"
    }
   ],
   "source": [
    "df_test.head()"
   ]
  },
  {
   "cell_type": "code",
   "execution_count": 132,
   "metadata": {
    "colab": {},
    "colab_type": "code",
    "executionInfo": {
     "elapsed": 1614,
     "status": "ok",
     "timestamp": 1594056258478,
     "user": {
      "displayName": "sharmila polamuri",
      "photoUrl": "https://lh3.googleusercontent.com/a-/AOh14GitHqSahKsh5l1AAtYV33Yfwpc77erHqm57l5OWOOU=s64",
      "userId": "15785241321524451082"
     },
     "user_tz": -330
    },
    "id": "pcv15dtEJ1FR"
   },
   "outputs": [],
   "source": [
    "raw_sentences = df_test[\"STORY\"]"
   ]
  },
  {
   "cell_type": "code",
   "execution_count": 135,
   "metadata": {
    "colab": {},
    "colab_type": "code",
    "executionInfo": {
     "elapsed": 1615,
     "status": "ok",
     "timestamp": 1594056289511,
     "user": {
      "displayName": "sharmila polamuri",
      "photoUrl": "https://lh3.googleusercontent.com/a-/AOh14GitHqSahKsh5l1AAtYV33Yfwpc77erHqm57l5OWOOU=s64",
      "userId": "15785241321524451082"
     },
     "user_tz": -330
    },
    "id": "Om25BoP-KD1Z"
   },
   "outputs": [],
   "source": [
    "text = raw_sentences[1]"
   ]
  },
  {
   "cell_type": "code",
   "execution_count": 139,
   "metadata": {
    "colab": {},
    "colab_type": "code",
    "executionInfo": {
     "elapsed": 1210,
     "status": "ok",
     "timestamp": 1594056394161,
     "user": {
      "displayName": "sharmila polamuri",
      "photoUrl": "https://lh3.googleusercontent.com/a-/AOh14GitHqSahKsh5l1AAtYV33Yfwpc77erHqm57l5OWOOU=s64",
      "userId": "15785241321524451082"
     },
     "user_tz": -330
    },
    "id": "kkOk_xh_KOqv"
   },
   "outputs": [],
   "source": [
    "sequences = tokenizer.texts_to_sequences(raw_sentences)"
   ]
  },
  {
   "cell_type": "code",
   "execution_count": 140,
   "metadata": {
    "colab": {},
    "colab_type": "code",
    "executionInfo": {
     "elapsed": 1193,
     "status": "ok",
     "timestamp": 1594056398026,
     "user": {
      "displayName": "sharmila polamuri",
      "photoUrl": "https://lh3.googleusercontent.com/a-/AOh14GitHqSahKsh5l1AAtYV33Yfwpc77erHqm57l5OWOOU=s64",
      "userId": "15785241321524451082"
     },
     "user_tz": -330
    },
    "id": "WZwLCwG4KQqP"
   },
   "outputs": [],
   "source": [
    "padded = pad_sequences(sequences, maxlen=max_length, padding=padding_type)"
   ]
  },
  {
   "cell_type": "code",
   "execution_count": 142,
   "metadata": {
    "colab": {},
    "colab_type": "code",
    "executionInfo": {
     "elapsed": 1247,
     "status": "ok",
     "timestamp": 1594056422930,
     "user": {
      "displayName": "sharmila polamuri",
      "photoUrl": "https://lh3.googleusercontent.com/a-/AOh14GitHqSahKsh5l1AAtYV33Yfwpc77erHqm57l5OWOOU=s64",
      "userId": "15785241321524451082"
     },
     "user_tz": -330
    },
    "id": "TQacyzKoKWm8"
   },
   "outputs": [],
   "source": [
    "predicted_results = model.predict(padded)"
   ]
  },
  {
   "cell_type": "code",
   "execution_count": 144,
   "metadata": {
    "colab": {
     "base_uri": "https://localhost:8080/",
     "height": 34
    },
    "colab_type": "code",
    "executionInfo": {
     "elapsed": 1205,
     "status": "ok",
     "timestamp": 1594056468701,
     "user": {
      "displayName": "sharmila polamuri",
      "photoUrl": "https://lh3.googleusercontent.com/a-/AOh14GitHqSahKsh5l1AAtYV33Yfwpc77erHqm57l5OWOOU=s64",
      "userId": "15785241321524451082"
     },
     "user_tz": -330
    },
    "id": "wTa14udDKvGy",
    "outputId": "0483f95f-cbf5-4479-de13-0f4af95e2b2f"
   },
   "outputs": [
    {
     "data": {
      "text/plain": [
       "2748"
      ]
     },
     "execution_count": 144,
     "metadata": {
      "tags": []
     },
     "output_type": "execute_result"
    }
   ],
   "source": [
    "len(df_test)"
   ]
  },
  {
   "cell_type": "code",
   "execution_count": 164,
   "metadata": {
    "colab": {},
    "colab_type": "code",
    "executionInfo": {
     "elapsed": 1221,
     "status": "ok",
     "timestamp": 1594056952727,
     "user": {
      "displayName": "sharmila polamuri",
      "photoUrl": "https://lh3.googleusercontent.com/a-/AOh14GitHqSahKsh5l1AAtYV33Yfwpc77erHqm57l5OWOOU=s64",
      "userId": "15785241321524451082"
     },
     "user_tz": -330
    },
    "id": "J59B6AkgMohh"
   },
   "outputs": [],
   "source": [
    "results = []"
   ]
  },
  {
   "cell_type": "code",
   "execution_count": 165,
   "metadata": {
    "colab": {},
    "colab_type": "code",
    "executionInfo": {
     "elapsed": 883,
     "status": "ok",
     "timestamp": 1594056965225,
     "user": {
      "displayName": "sharmila polamuri",
      "photoUrl": "https://lh3.googleusercontent.com/a-/AOh14GitHqSahKsh5l1AAtYV33Yfwpc77erHqm57l5OWOOU=s64",
      "userId": "15785241321524451082"
     },
     "user_tz": -330
    },
    "id": "hxbuSHnEMTiI"
   },
   "outputs": [],
   "source": [
    "for result_index in range(len(predicted_results)):\n",
    "  list1 = list(predicted_results[result_index])\n",
    "  max_ele = max(list1)\n",
    "  index1 = list1.index(max_ele)\n",
    "  results.append(index1)"
   ]
  },
  {
   "cell_type": "code",
   "execution_count": 166,
   "metadata": {
    "colab": {
     "base_uri": "https://localhost:8080/",
     "height": 34
    },
    "colab_type": "code",
    "executionInfo": {
     "elapsed": 1253,
     "status": "ok",
     "timestamp": 1594056976505,
     "user": {
      "displayName": "sharmila polamuri",
      "photoUrl": "https://lh3.googleusercontent.com/a-/AOh14GitHqSahKsh5l1AAtYV33Yfwpc77erHqm57l5OWOOU=s64",
      "userId": "15785241321524451082"
     },
     "user_tz": -330
    },
    "id": "jU-JXocTMwSS",
    "outputId": "6356f6d5-4b01-456f-98b1-e35cba1f7936"
   },
   "outputs": [
    {
     "data": {
      "text/plain": [
       "2748"
      ]
     },
     "execution_count": 166,
     "metadata": {
      "tags": []
     },
     "output_type": "execute_result"
    }
   ],
   "source": [
    "len(results)"
   ]
  },
  {
   "cell_type": "code",
   "execution_count": 167,
   "metadata": {
    "colab": {
     "base_uri": "https://localhost:8080/",
     "height": 34
    },
    "colab_type": "code",
    "executionInfo": {
     "elapsed": 1188,
     "status": "ok",
     "timestamp": 1594057023584,
     "user": {
      "displayName": "sharmila polamuri",
      "photoUrl": "https://lh3.googleusercontent.com/a-/AOh14GitHqSahKsh5l1AAtYV33Yfwpc77erHqm57l5OWOOU=s64",
      "userId": "15785241321524451082"
     },
     "user_tz": -330
    },
    "id": "n0tYgKgqM0bE",
    "outputId": "f4f1ae2d-983e-4be7-a393-dd0c1c618682"
   },
   "outputs": [
    {
     "data": {
      "text/plain": [
       "list"
      ]
     },
     "execution_count": 167,
     "metadata": {
      "tags": []
     },
     "output_type": "execute_result"
    }
   ],
   "source": [
    "type(results)"
   ]
  },
  {
   "cell_type": "code",
   "execution_count": 168,
   "metadata": {
    "colab": {
     "base_uri": "https://localhost:8080/",
     "height": 122
    },
    "colab_type": "code",
    "executionInfo": {
     "elapsed": 7295,
     "status": "ok",
     "timestamp": 1594057342295,
     "user": {
      "displayName": "sharmila polamuri",
      "photoUrl": "https://lh3.googleusercontent.com/a-/AOh14GitHqSahKsh5l1AAtYV33Yfwpc77erHqm57l5OWOOU=s64",
      "userId": "15785241321524451082"
     },
     "user_tz": -330
    },
    "id": "K1N4tb-IOJsn",
    "outputId": "7b6d0be0-58be-4a50-978e-a2888d8db312"
   },
   "outputs": [
    {
     "name": "stdout",
     "output_type": "stream",
     "text": [
      "Collecting xlsxwriter\n",
      "\u001b[?25l  Downloading https://files.pythonhosted.org/packages/c8/a2/e5f28b67b7d883c9a6585c0ef32b4bb002bff0292b3008f3d6d3fc7eee59/XlsxWriter-1.2.9-py2.py3-none-any.whl (141kB)\n",
      "\u001b[K     |████████████████████████████████| 143kB 8.6MB/s eta 0:00:01\n",
      "\u001b[?25hInstalling collected packages: xlsxwriter\n",
      "Successfully installed xlsxwriter-1.2.9\n"
     ]
    }
   ],
   "source": [
    "!pip install xlsxwriter"
   ]
  },
  {
   "cell_type": "code",
   "execution_count": 170,
   "metadata": {
    "colab": {},
    "colab_type": "code",
    "executionInfo": {
     "elapsed": 1609,
     "status": "ok",
     "timestamp": 1594057420472,
     "user": {
      "displayName": "sharmila polamuri",
      "photoUrl": "https://lh3.googleusercontent.com/a-/AOh14GitHqSahKsh5l1AAtYV33Yfwpc77erHqm57l5OWOOU=s64",
      "userId": "15785241321524451082"
     },
     "user_tz": -330
    },
    "id": "T--t4OJgN8FF"
   },
   "outputs": [],
   "source": [
    "# write results to xslx file\n",
    "import xlsxwriter\n",
    "workbook = xlsxwriter.Workbook('submission_tensor.xlsx')\n",
    "worksheet = workbook.add_worksheet()\n",
    "row = 1\n",
    "column = 0"
   ]
  },
  {
   "cell_type": "code",
   "execution_count": 171,
   "metadata": {
    "colab": {
     "base_uri": "https://localhost:8080/",
     "height": 34
    },
    "colab_type": "code",
    "executionInfo": {
     "elapsed": 1286,
     "status": "ok",
     "timestamp": 1594057422728,
     "user": {
      "displayName": "sharmila polamuri",
      "photoUrl": "https://lh3.googleusercontent.com/a-/AOh14GitHqSahKsh5l1AAtYV33Yfwpc77erHqm57l5OWOOU=s64",
      "userId": "15785241321524451082"
     },
     "user_tz": -330
    },
    "id": "vhQ2pvmpOZ1c",
    "outputId": "2c99fd24-ace5-4498-e2de-6d5de21d8d2d"
   },
   "outputs": [
    {
     "data": {
      "text/plain": [
       "0"
      ]
     },
     "execution_count": 171,
     "metadata": {
      "tags": []
     },
     "output_type": "execute_result"
    }
   ],
   "source": [
    "worksheet.write(0,0,'SECTION')"
   ]
  },
  {
   "cell_type": "code",
   "execution_count": 172,
   "metadata": {
    "colab": {},
    "colab_type": "code",
    "executionInfo": {
     "elapsed": 1246,
     "status": "ok",
     "timestamp": 1594057456745,
     "user": {
      "displayName": "sharmila polamuri",
      "photoUrl": "https://lh3.googleusercontent.com/a-/AOh14GitHqSahKsh5l1AAtYV33Yfwpc77erHqm57l5OWOOU=s64",
      "userId": "15785241321524451082"
     },
     "user_tz": -330
    },
    "id": "UvaYXnYfOicG"
   },
   "outputs": [],
   "source": [
    "for item in results: \n",
    "  \n",
    "    # write operation perform \n",
    "    # worksheet.write('A1', 'SECTION')\n",
    "    worksheet.write(row, column, item) \n",
    "  \n",
    "    # incrementing the value of row by one \n",
    "    # with each iteratons. \n",
    "    row += 1"
   ]
  },
  {
   "cell_type": "code",
   "execution_count": 173,
   "metadata": {
    "colab": {},
    "colab_type": "code",
    "executionInfo": {
     "elapsed": 1214,
     "status": "ok",
     "timestamp": 1594057467573,
     "user": {
      "displayName": "sharmila polamuri",
      "photoUrl": "https://lh3.googleusercontent.com/a-/AOh14GitHqSahKsh5l1AAtYV33Yfwpc77erHqm57l5OWOOU=s64",
      "userId": "15785241321524451082"
     },
     "user_tz": -330
    },
    "id": "DlKZsxjhOn7P"
   },
   "outputs": [],
   "source": [
    "workbook.close()"
   ]
  }
 ],
 "metadata": {
  "accelerator": "GPU",
  "colab": {
   "authorship_tag": "ABX9TyNEYWI+FHWdsxL0WERGrNMS",
   "name": "news_category_predictor.ipynb",
   "provenance": []
  },
  "kernelspec": {
   "display_name": "Python 3",
   "language": "python",
   "name": "python3"
  },
  "language_info": {
   "codemirror_mode": {
    "name": "ipython",
    "version": 3
   },
   "file_extension": ".py",
   "mimetype": "text/x-python",
   "name": "python",
   "nbconvert_exporter": "python",
   "pygments_lexer": "ipython3",
   "version": "3.7.4"
  }
 },
 "nbformat": 4,
 "nbformat_minor": 4
}
